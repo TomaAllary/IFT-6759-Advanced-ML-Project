{
 "cells": [
  {
   "metadata": {},
   "cell_type": "markdown",
   "source": "# Predict last emotion of a dialogue from MELD dataset",
   "id": "6c9081110c3acaf6"
  },
  {
   "metadata": {
    "ExecuteTime": {
     "end_time": "2025-04-08T01:00:15.203098Z",
     "start_time": "2025-04-08T01:00:13.532914Z"
    }
   },
   "cell_type": "code",
   "source": [
    "# Set Wandb\n",
    "import wandb\n",
    "\n",
    "entity = 'IFT6759-ADV_PROJECT'\n",
    "project = 'cnn-emotion-prediction'\n",
    "secret_api_key = 'e3d9da3d2519364013b968011af022ee0bda0091' # 'your_api_key_here'\n",
    "\n",
    "wandb.login(key=secret_api_key)\n"
   ],
   "id": "c5e1c3c7189ed979",
   "outputs": [
    {
     "name": "stderr",
     "output_type": "stream",
     "text": [
      "wandb: Using wandb-core as the SDK backend.  Please refer to https://wandb.me/wandb-core for more information.\n",
      "wandb: WARNING If you're specifying your api key in code, ensure this code is not shared publicly.\n",
      "wandb: WARNING Consider setting the WANDB_API_KEY environment variable, or running `wandb login` from the command line.\n",
      "wandb: Appending key for api.wandb.ai to your netrc file: C:\\Users\\allar\\_netrc\n",
      "wandb: Currently logged in as: toma-allary (toma-allary-universit-de-montr-al) to https://api.wandb.ai. Use `wandb login --relogin` to force relogin\n"
     ]
    },
    {
     "data": {
      "text/plain": [
       "True"
      ]
     },
     "execution_count": 1,
     "metadata": {},
     "output_type": "execute_result"
    }
   ],
   "execution_count": 1
  },
  {
   "metadata": {},
   "cell_type": "markdown",
   "source": "### If features were not already processed through WaveLM & RoBERTa",
   "id": "a8c8b6747b2c4a16"
  },
  {
   "metadata": {
    "ExecuteTime": {
     "end_time": "2025-04-08T01:00:22.588256Z",
     "start_time": "2025-04-08T01:00:15.212032Z"
    }
   },
   "cell_type": "code",
   "source": [
    "import numpy as np\n",
    "import pandas as pd\n",
    "import os\n",
    "from src.conversation_processing import ConversationProcessor_CNN\n",
    "import torch\n",
    "import pickle\n",
    "\n",
    "# Limit to 50% of the total available memory on the GPU\n",
    "torch.cuda.set_per_process_memory_fraction(0.8, device=0)\n",
    "\n",
    "project_dir                 = os.getcwd()\n",
    "MELD_folder                 = \"train\"\n",
    "audio_data_folder           = \"train_splits\"\n",
    "text_data_csv_filename      = \"train_sent_emo.csv\"\n",
    "combined_audio_data_folder  = \"train_combined\"\n",
    "combined_csv_filename       = \"MELD_combined_v2.csv\"\n",
    "embeddings_plk_filename     = \"final_tensor_conversation_v2\"\n",
    "\n",
    "myProcessor = ConversationProcessor_CNN(\n",
    "    project_dir=project_dir,\n",
    "    MELD_folder=MELD_folder,\n",
    "    audio_data_folder=audio_data_folder,\n",
    "    text_data_csv_filename=text_data_csv_filename,\n",
    "    combined_audio_data_folder=combined_audio_data_folder,\n",
    "    combined_csv_filename=combined_csv_filename,\n",
    "    embeddings_plk_filename=embeddings_plk_filename)\n",
    "\n",
    "print(myProcessor.BASE_DIR)\n",
    "\n",
    "# Check if merged audio exist\n",
    "if not os.listdir(myProcessor.COMBINED_DIR):\n",
    "    print(\"Combined audio is empty. Creating combined audio.\")\n",
    "    # myProcessor.CombineAudio()\n",
    "else:\n",
    "    print(\"Combined audio is already present.\")\n",
    "\n",
    "if not os.path.exists(myProcessor.DATA_CSV_FILE):\n",
    "    print(\"Combined csv does not exist, creating it..\")\n",
    "    # combined_df = myProcessor.Create_combined_csv()\n",
    "else:\n",
    "    combined_df = pd.read_csv(myProcessor.DATA_CSV_FILE)\n",
    "    print(\"Combined csv is already present.\")\n",
    "\n",
    "if not os.path.exists(myProcessor.CODE_FILENAME) or not os.path.exists(myProcessor.CODE_LABEL_FILENAME):\n",
    "    print(\"Combined features does not exist. Creating features dataset..\")\n",
    "    # myProcessor.Create_features_dataset(combined_df)\n",
    "else:\n",
    "    print(\"Combined features dataset is already present.\")\n",
    "\n",
    "with open(myProcessor.CODE_FILENAME, 'rb') as f:\n",
    "    train_dataset_tensor = pickle.load(f)\n",
    "\n",
    "train_dataset_targets = pd.read_csv(myProcessor.CODE_LABEL_FILENAME)\n",
    "\n",
    "# Optionally confirm it's a tensor\n",
    "print(\"dataset Tensor and CSV loaded.\")"
   ],
   "id": "6344092c55687432",
   "outputs": [
    {
     "name": "stderr",
     "output_type": "stream",
     "text": [
      "C:\\Users\\allar\\miniconda3\\envs\\IFT6759\\lib\\site-packages\\tqdm\\auto.py:21: TqdmWarning: IProgress not found. Please update jupyter and ipywidgets. See https://ipywidgets.readthedocs.io/en/stable/user_install.html\n",
      "  from .autonotebook import tqdm as notebook_tqdm\n",
      "Some weights of RobertaModel were not initialized from the model checkpoint at roberta-base and are newly initialized: ['pooler.dense.bias', 'pooler.dense.weight']\n",
      "You should probably TRAIN this model on a down-stream task to be able to use it for predictions and inference.\n"
     ]
    },
    {
     "name": "stdout",
     "output_type": "stream",
     "text": [
      "ConversationProcessor initialized using device: cuda\n",
      "C:\\Users\\allar\\Documents\\UdeM\\IFT6759 AdvProject\\Projet\\IFT-6759-Advanced-ML-Project\n",
      "Combined audio is already present.\n",
      "Combined csv is already present.\n",
      "Combined features dataset is already present.\n",
      "dataset Tensor and CSV loaded.\n"
     ]
    }
   ],
   "execution_count": 2
  },
  {
   "metadata": {
    "ExecuteTime": {
     "end_time": "2025-04-08T01:00:22.834436Z",
     "start_time": "2025-04-08T01:00:22.819978Z"
    }
   },
   "cell_type": "code",
   "source": [
    "print(f\"Dataset shape: {train_dataset_tensor.shape}\")\n",
    "train_dataset_targets"
   ],
   "id": "3885a88c171c73d1",
   "outputs": [
    {
     "name": "stdout",
     "output_type": "stream",
     "text": [
      "Dataset shape: torch.Size([734, 128, 1536])\n"
     ]
    },
    {
     "data": {
      "text/plain": [
       "     Dialogue_ID Last_Emotion\n",
       "0              2          joy\n",
       "1              3      neutral\n",
       "2              4      neutral\n",
       "3              5     surprise\n",
       "4              6        anger\n",
       "..           ...          ...\n",
       "729          995      neutral\n",
       "730          996      sadness\n",
       "731          997        anger\n",
       "732          998     surprise\n",
       "733          999      neutral\n",
       "\n",
       "[734 rows x 2 columns]"
      ],
      "text/html": [
       "<div>\n",
       "<style scoped>\n",
       "    .dataframe tbody tr th:only-of-type {\n",
       "        vertical-align: middle;\n",
       "    }\n",
       "\n",
       "    .dataframe tbody tr th {\n",
       "        vertical-align: top;\n",
       "    }\n",
       "\n",
       "    .dataframe thead th {\n",
       "        text-align: right;\n",
       "    }\n",
       "</style>\n",
       "<table border=\"1\" class=\"dataframe\">\n",
       "  <thead>\n",
       "    <tr style=\"text-align: right;\">\n",
       "      <th></th>\n",
       "      <th>Dialogue_ID</th>\n",
       "      <th>Last_Emotion</th>\n",
       "    </tr>\n",
       "  </thead>\n",
       "  <tbody>\n",
       "    <tr>\n",
       "      <th>0</th>\n",
       "      <td>2</td>\n",
       "      <td>joy</td>\n",
       "    </tr>\n",
       "    <tr>\n",
       "      <th>1</th>\n",
       "      <td>3</td>\n",
       "      <td>neutral</td>\n",
       "    </tr>\n",
       "    <tr>\n",
       "      <th>2</th>\n",
       "      <td>4</td>\n",
       "      <td>neutral</td>\n",
       "    </tr>\n",
       "    <tr>\n",
       "      <th>3</th>\n",
       "      <td>5</td>\n",
       "      <td>surprise</td>\n",
       "    </tr>\n",
       "    <tr>\n",
       "      <th>4</th>\n",
       "      <td>6</td>\n",
       "      <td>anger</td>\n",
       "    </tr>\n",
       "    <tr>\n",
       "      <th>...</th>\n",
       "      <td>...</td>\n",
       "      <td>...</td>\n",
       "    </tr>\n",
       "    <tr>\n",
       "      <th>729</th>\n",
       "      <td>995</td>\n",
       "      <td>neutral</td>\n",
       "    </tr>\n",
       "    <tr>\n",
       "      <th>730</th>\n",
       "      <td>996</td>\n",
       "      <td>sadness</td>\n",
       "    </tr>\n",
       "    <tr>\n",
       "      <th>731</th>\n",
       "      <td>997</td>\n",
       "      <td>anger</td>\n",
       "    </tr>\n",
       "    <tr>\n",
       "      <th>732</th>\n",
       "      <td>998</td>\n",
       "      <td>surprise</td>\n",
       "    </tr>\n",
       "    <tr>\n",
       "      <th>733</th>\n",
       "      <td>999</td>\n",
       "      <td>neutral</td>\n",
       "    </tr>\n",
       "  </tbody>\n",
       "</table>\n",
       "<p>734 rows × 2 columns</p>\n",
       "</div>"
      ]
     },
     "execution_count": 3,
     "metadata": {},
     "output_type": "execute_result"
    }
   ],
   "execution_count": 3
  },
  {
   "metadata": {},
   "cell_type": "markdown",
   "source": "## Split train set to have validation",
   "id": "f1ee301ea3f031e3"
  },
  {
   "metadata": {
    "ExecuteTime": {
     "end_time": "2025-04-08T01:00:22.941105Z",
     "start_time": "2025-04-08T01:00:22.926932Z"
    }
   },
   "cell_type": "code",
   "source": [
    "import torch\n",
    "import pandas as pd\n",
    "from sklearn.preprocessing import LabelEncoder\n",
    "from torch.utils.data import DataLoader, TensorDataset\n",
    "\n",
    "# Ratio for training\n",
    "ratio_train = 0.8\n",
    "batch_size = 32\n",
    "max_batch_size = 4\n",
    "\n",
    "# Convert string target into encoded classes\n",
    "label_encoder = LabelEncoder()\n",
    "labels_encoded = label_encoder.fit_transform(train_dataset_targets['Last_Emotion'].values)\n",
    "# Convert labels into tensor\n",
    "labels = torch.tensor(labels_encoded, dtype=torch.long)\n",
    "\n",
    "# Merge features & target in a TensorDataset\n",
    "dataset = TensorDataset(train_dataset_tensor, labels)\n",
    "\n",
    "# Split the dataset into train and validation\n",
    "train_size = int(ratio_train * len(dataset))\n",
    "val_size = len(dataset) - train_size\n",
    "train_data, val_data = torch.utils.data.random_split(dataset, [train_size, val_size])\n",
    "\n",
    "# Create DataLoader\n",
    "train_loader = DataLoader(train_data, batch_size=max_batch_size, num_workers=1, pin_memory=False, shuffle=True)\n",
    "val_loader = DataLoader(val_data, batch_size=max_batch_size, num_workers=1, pin_memory=False)\n",
    "\n",
    "\n",
    "print(f\"Train dataset shape: {len(train_loader.dataset)}\")\n",
    "print(f\"Val dataset shape: {len(val_loader.dataset)}\")"
   ],
   "id": "20a73ffb24540d81",
   "outputs": [
    {
     "name": "stdout",
     "output_type": "stream",
     "text": [
      "Train dataset shape: 587\n",
      "Val dataset shape: 147\n"
     ]
    }
   ],
   "execution_count": 4
  },
  {
   "metadata": {
    "ExecuteTime": {
     "end_time": "2025-04-07T22:07:23.955262Z",
     "start_time": "2025-04-07T22:07:23.941374Z"
    }
   },
   "cell_type": "code",
   "source": "",
   "id": "d787b637a6a724d0",
   "outputs": [],
   "execution_count": null
  },
  {
   "metadata": {},
   "cell_type": "markdown",
   "source": "## Train ResNet architecture",
   "id": "aa2cd3e14278b180"
  },
  {
   "metadata": {
    "ExecuteTime": {
     "end_time": "2025-04-08T01:00:30.043705Z",
     "start_time": "2025-04-08T01:00:29.970436Z"
    }
   },
   "cell_type": "code",
   "source": [
    "import optuna\n",
    "\n",
    "device = torch.device(\"cuda\" if torch.cuda.is_available() else \"cpu\")\n",
    "print(f\"Using device: {device}\")\n",
    "use_amp = torch.cuda.is_available()\n",
    "\n",
    "\n",
    "\n",
    "class Args:\n",
    "    lr: float = 0.0001\n",
    "    epochs: int = 100\n",
    "    optimizer = \"adam\"\n",
    "    weight_decay = 0.0001\n",
    "\n",
    "\n",
    "def TrainModel(model: torch.nn.Module, args: Args, optuna_trial: optuna.Trial = None):\n",
    "\n",
    "    optimizer_delay = -(-batch_size // max_batch_size) # round up\n",
    "    # after optimizer_delay steps, do backward. This emulate bigger batch_size\n",
    "\n",
    "    criterion = torch.nn.CrossEntropyLoss()\n",
    "    if use_amp:\n",
    "        scaler = torch.amp.GradScaler('cuda')\n",
    "\n",
    "    if args.optimizer == \"sgd\":\n",
    "        optimizer = torch.optim.SGD(model.parameters(), lr=args.lr, weight_decay=args.weight_decay, momentum=0.9)\n",
    "    elif args.optimizer == \"adam\":\n",
    "        optimizer = torch.optim.Adam(model.parameters(), lr=args.lr, weight_decay=args.weight_decay)\n",
    "    elif args.optimizer == \"adamw\":\n",
    "        optimizer = torch.optim.AdamW(model.parameters(), lr=args.lr, weight_decay=args.weight_decay)\n",
    "    else:\n",
    "        raise ValueError(f\"Unknown optimizer {args.optimizer}\")\n",
    "\n",
    "    # Training and validation loop\n",
    "    best_val_acc = 0\n",
    "    pruned = False\n",
    "\n",
    "    last_train_loss = 0\n",
    "    last_val_acc = 0\n",
    "    last_train_acc = 0\n",
    "    for epoch in range(args.epochs):\n",
    "        # --- Training ---\n",
    "        model.train()\n",
    "        total_loss = 0\n",
    "\n",
    "        batch_it = 0\n",
    "        for batch_x, batch_y in train_loader:\n",
    "            batch_x, batch_y = batch_x.to(device), batch_y.to(device)\n",
    "\n",
    "            if use_amp:\n",
    "                with torch.amp.autocast('cuda'):\n",
    "                    outputs = model(batch_x)\n",
    "                    loss = criterion(outputs, batch_y)\n",
    "\n",
    "                scaler.scale(loss).backward()\n",
    "\n",
    "                if batch_it % optimizer_delay == 0 or batch_it == len(train_loader) - 1:\n",
    "                    scaler.step(optimizer)\n",
    "                    scaler.update()\n",
    "                    optimizer.zero_grad()\n",
    "            else:\n",
    "                outputs = model(batch_x)\n",
    "                loss = criterion(outputs, batch_y)\n",
    "                loss.backward()\n",
    "                if batch_it % optimizer_delay == 0 or batch_it == len(train_loader) - 1:\n",
    "                    optimizer.step()\n",
    "                    optimizer.zero_grad()\n",
    "\n",
    "            total_loss += loss.item()\n",
    "            batch_it += 1\n",
    "\n",
    "        train_loss = total_loss / len(train_loader)\n",
    "        print(f\"Epoch {epoch+1}, Train Loss: {train_loss:.4f}\")\n",
    "\n",
    "        # --- Validation ---\n",
    "        model.eval()\n",
    "        val_correct = 0\n",
    "        val_total = 0\n",
    "        train_correct = 0\n",
    "        train_total = 0\n",
    "        with torch.no_grad():\n",
    "            for batch_x, batch_y in train_loader:\n",
    "                batch_x, batch_y = batch_x.to(device), batch_y.to(device)\n",
    "\n",
    "                outputs = model(batch_x)\n",
    "                _, predicted = torch.max(outputs, 1)\n",
    "                train_total += batch_y.size(0)\n",
    "                train_correct += (predicted == batch_y).sum().item()\n",
    "\n",
    "            for batch_x, batch_y in val_loader:\n",
    "                batch_x, batch_y = batch_x.to(device), batch_y.to(device)\n",
    "\n",
    "                outputs = model(batch_x)\n",
    "                _, predicted = torch.max(outputs, 1)\n",
    "                val_total += batch_y.size(0)\n",
    "                val_correct += (predicted == batch_y).sum().item()\n",
    "\n",
    "        val_accuracy = val_correct / val_total * 100\n",
    "        train_accuracy = train_correct / train_total * 100\n",
    "        print(f\"Validation Accuracy: {val_accuracy:.2f}%\")\n",
    "        print(f\"Train Accuracy: {train_accuracy:.2f}%\")\n",
    "\n",
    "\n",
    "        if optuna_trial is not None:\n",
    "            # Optuna pruning\n",
    "            optuna_trial.report(val_accuracy, step=epoch)\n",
    "            # Prune if trial is not promising\n",
    "            if optuna_trial.should_prune():\n",
    "                pruned = True\n",
    "                return train_loss, train_accuracy, val_accuracy, best_val_acc, pruned\n",
    "\n",
    "        best_val_acc = max(best_val_acc, val_accuracy)\n",
    "        last_train_loss = train_loss\n",
    "        last_val_acc = val_accuracy\n",
    "        last_train_acc = train_accuracy\n",
    "\n",
    "        # Log metrics using the global context\n",
    "        wandb.log({\"train_acc\": train_accuracy, \"train_loss\": train_loss, \"val_acc\": val_accuracy})\n",
    "\n",
    "        # Clear cache after each epoch\n",
    "        torch.cuda.empty_cache()\n",
    "\n",
    "    return last_train_loss, last_train_acc, last_val_acc, best_val_acc, pruned"
   ],
   "id": "d59dc836ee67c0be",
   "outputs": [
    {
     "name": "stdout",
     "output_type": "stream",
     "text": [
      "Using device: cuda\n"
     ]
    }
   ],
   "execution_count": 5
  },
  {
   "metadata": {
    "ExecuteTime": {
     "end_time": "2025-04-07T23:06:17.706722Z",
     "start_time": "2025-04-07T22:07:30.403440Z"
    }
   },
   "cell_type": "code",
   "source": [
    "from datetime import datetime\n",
    "from src.resnet_cnn import ResNetCNN\n",
    "from src.cnn_classifier import CNNClassifier\n",
    "\n",
    "import os\n",
    "# This makes the GPU operations synchronous\n",
    "# os.environ[\"CUDA_LAUNCH_BLOCKING\"] = \"1\"\n",
    "# torch.cuda.empty_cache()\n",
    "\n",
    "model_type = 'resnet'\n",
    "if model_type == 'resnet':\n",
    "    model = ResNetCNN()\n",
    "else:\n",
    "    model = CNNClassifier()\n",
    "model = model.to(device)\n",
    "\n",
    "someArgs = Args()\n",
    "run = wandb.init(\n",
    "    entity=entity,\n",
    "    project=project,\n",
    "    name=f\"{model_type}-emotion-prediction-{datetime.now().strftime('%Y%m%d-%H%M%S')}\",\n",
    "    config={\n",
    "        \"learning_rate\": someArgs.lr,\n",
    "        \"architecture\": model_type,\n",
    "        \"dataset\": \"MELD\",\n",
    "        \"epochs\": someArgs.epochs,\n",
    "        \"batch_size\": batch_size,\n",
    "    },\n",
    ")\n",
    "\n",
    "TrainModel(model, someArgs)\n"
   ],
   "id": "fa36bedea21c7ccd",
   "outputs": [
    {
     "data": {
      "text/plain": [
       "<IPython.core.display.HTML object>"
      ],
      "text/html": [
       "Tracking run with wandb version 0.19.9"
      ]
     },
     "metadata": {},
     "output_type": "display_data"
    },
    {
     "data": {
      "text/plain": [
       "<IPython.core.display.HTML object>"
      ],
      "text/html": [
       "Run data is saved locally in <code>C:\\Users\\allar\\Documents\\UdeM\\IFT6759 AdvProject\\Projet\\IFT-6759-Advanced-ML-Project\\wandb\\run-20250407_180730-45ui5n7d</code>"
      ]
     },
     "metadata": {},
     "output_type": "display_data"
    },
    {
     "data": {
      "text/plain": [
       "<IPython.core.display.HTML object>"
      ],
      "text/html": [
       "Syncing run <strong><a href='https://wandb.ai/IFT6759-ADV_PROJECT/cnn-emotion-prediction/runs/45ui5n7d' target=\"_blank\">resnet-emotion-prediction-20250407-180730</a></strong> to <a href='https://wandb.ai/IFT6759-ADV_PROJECT/cnn-emotion-prediction' target=\"_blank\">Weights & Biases</a> (<a href='https://wandb.me/developer-guide' target=\"_blank\">docs</a>)<br>"
      ]
     },
     "metadata": {},
     "output_type": "display_data"
    },
    {
     "data": {
      "text/plain": [
       "<IPython.core.display.HTML object>"
      ],
      "text/html": [
       " View project at <a href='https://wandb.ai/IFT6759-ADV_PROJECT/cnn-emotion-prediction' target=\"_blank\">https://wandb.ai/IFT6759-ADV_PROJECT/cnn-emotion-prediction</a>"
      ]
     },
     "metadata": {},
     "output_type": "display_data"
    },
    {
     "data": {
      "text/plain": [
       "<IPython.core.display.HTML object>"
      ],
      "text/html": [
       " View run at <a href='https://wandb.ai/IFT6759-ADV_PROJECT/cnn-emotion-prediction/runs/45ui5n7d' target=\"_blank\">https://wandb.ai/IFT6759-ADV_PROJECT/cnn-emotion-prediction/runs/45ui5n7d</a>"
      ]
     },
     "metadata": {},
     "output_type": "display_data"
    },
    {
     "name": "stdout",
     "output_type": "stream",
     "text": [
      "Epoch 1, Train Loss: 1.7324\n",
      "Validation Accuracy: 46.94%\n",
      "Train Accuracy: 44.63%\n",
      "Epoch 2, Train Loss: 1.6051\n",
      "Validation Accuracy: 46.94%\n",
      "Train Accuracy: 44.63%\n",
      "Epoch 3, Train Loss: 1.5910\n",
      "Validation Accuracy: 46.94%\n",
      "Train Accuracy: 44.63%\n",
      "Epoch 4, Train Loss: 1.6074\n",
      "Validation Accuracy: 46.94%\n",
      "Train Accuracy: 44.63%\n",
      "Epoch 5, Train Loss: 1.6000\n",
      "Validation Accuracy: 46.94%\n",
      "Train Accuracy: 44.63%\n",
      "Epoch 6, Train Loss: 1.6020\n",
      "Validation Accuracy: 46.94%\n",
      "Train Accuracy: 44.63%\n",
      "Epoch 7, Train Loss: 1.6006\n",
      "Validation Accuracy: 46.94%\n",
      "Train Accuracy: 44.63%\n",
      "Epoch 8, Train Loss: 1.5920\n",
      "Validation Accuracy: 46.94%\n",
      "Train Accuracy: 44.63%\n",
      "Epoch 9, Train Loss: 1.5901\n",
      "Validation Accuracy: 46.94%\n",
      "Train Accuracy: 44.63%\n",
      "Epoch 10, Train Loss: 1.5970\n",
      "Validation Accuracy: 46.94%\n",
      "Train Accuracy: 44.63%\n",
      "Epoch 11, Train Loss: 1.5794\n",
      "Validation Accuracy: 46.94%\n",
      "Train Accuracy: 44.63%\n",
      "Epoch 12, Train Loss: 1.5796\n",
      "Validation Accuracy: 46.94%\n",
      "Train Accuracy: 44.63%\n",
      "Epoch 13, Train Loss: 1.5703\n",
      "Validation Accuracy: 46.94%\n",
      "Train Accuracy: 44.63%\n",
      "Epoch 14, Train Loss: 1.5306\n",
      "Validation Accuracy: 46.94%\n",
      "Train Accuracy: 44.63%\n",
      "Epoch 15, Train Loss: 1.4364\n",
      "Validation Accuracy: 46.94%\n",
      "Train Accuracy: 44.63%\n",
      "Epoch 16, Train Loss: 1.3650\n",
      "Validation Accuracy: 46.94%\n",
      "Train Accuracy: 44.63%\n",
      "Epoch 17, Train Loss: 1.2505\n",
      "Validation Accuracy: 44.22%\n",
      "Train Accuracy: 50.77%\n",
      "Epoch 18, Train Loss: 1.2234\n",
      "Validation Accuracy: 44.90%\n",
      "Train Accuracy: 51.62%\n",
      "Epoch 19, Train Loss: 1.1575\n",
      "Validation Accuracy: 17.01%\n",
      "Train Accuracy: 63.71%\n",
      "Epoch 20, Train Loss: 1.0937\n",
      "Validation Accuracy: 17.69%\n",
      "Train Accuracy: 64.05%\n",
      "Epoch 21, Train Loss: 1.0790\n",
      "Validation Accuracy: 46.26%\n",
      "Train Accuracy: 47.70%\n",
      "Epoch 22, Train Loss: 1.0516\n",
      "Validation Accuracy: 28.57%\n",
      "Train Accuracy: 66.27%\n",
      "Epoch 23, Train Loss: 1.1279\n",
      "Validation Accuracy: 44.22%\n",
      "Train Accuracy: 60.31%\n",
      "Epoch 24, Train Loss: 1.0586\n",
      "Validation Accuracy: 19.73%\n",
      "Train Accuracy: 65.25%\n",
      "Epoch 25, Train Loss: 1.0293\n",
      "Validation Accuracy: 40.14%\n",
      "Train Accuracy: 52.47%\n",
      "Epoch 26, Train Loss: 1.0160\n",
      "Validation Accuracy: 41.50%\n",
      "Train Accuracy: 57.41%\n",
      "Epoch 27, Train Loss: 0.9765\n",
      "Validation Accuracy: 19.73%\n",
      "Train Accuracy: 79.39%\n",
      "Epoch 28, Train Loss: 0.9039\n",
      "Validation Accuracy: 36.73%\n",
      "Train Accuracy: 71.21%\n",
      "Epoch 29, Train Loss: 0.9137\n",
      "Validation Accuracy: 20.41%\n",
      "Train Accuracy: 79.73%\n",
      "Epoch 30, Train Loss: 0.9055\n",
      "Validation Accuracy: 46.94%\n",
      "Train Accuracy: 45.14%\n",
      "Epoch 31, Train Loss: 0.8622\n",
      "Validation Accuracy: 15.65%\n",
      "Train Accuracy: 80.58%\n",
      "Epoch 32, Train Loss: 0.7906\n",
      "Validation Accuracy: 14.97%\n",
      "Train Accuracy: 85.01%\n",
      "Epoch 33, Train Loss: 0.6937\n",
      "Validation Accuracy: 41.50%\n",
      "Train Accuracy: 82.45%\n",
      "Epoch 34, Train Loss: 0.6084\n",
      "Validation Accuracy: 17.01%\n",
      "Train Accuracy: 89.27%\n",
      "Epoch 35, Train Loss: 0.5582\n",
      "Validation Accuracy: 33.33%\n",
      "Train Accuracy: 88.42%\n",
      "Epoch 36, Train Loss: 0.5619\n",
      "Validation Accuracy: 12.24%\n",
      "Train Accuracy: 86.88%\n",
      "Epoch 37, Train Loss: 0.4966\n",
      "Validation Accuracy: 28.57%\n",
      "Train Accuracy: 88.59%\n",
      "Epoch 38, Train Loss: 0.4089\n",
      "Validation Accuracy: 14.29%\n",
      "Train Accuracy: 88.25%\n",
      "Epoch 39, Train Loss: 0.4140\n",
      "Validation Accuracy: 11.56%\n",
      "Train Accuracy: 55.20%\n",
      "Epoch 40, Train Loss: 0.3955\n",
      "Validation Accuracy: 31.29%\n",
      "Train Accuracy: 91.14%\n",
      "Epoch 41, Train Loss: 0.3419\n",
      "Validation Accuracy: 14.29%\n",
      "Train Accuracy: 84.16%\n",
      "Epoch 42, Train Loss: 0.3391\n",
      "Validation Accuracy: 17.69%\n",
      "Train Accuracy: 93.02%\n",
      "Epoch 43, Train Loss: 0.3222\n",
      "Validation Accuracy: 16.33%\n",
      "Train Accuracy: 91.31%\n",
      "Epoch 44, Train Loss: 0.3909\n",
      "Validation Accuracy: 24.49%\n",
      "Train Accuracy: 95.23%\n",
      "Epoch 45, Train Loss: 0.2834\n",
      "Validation Accuracy: 17.01%\n",
      "Train Accuracy: 95.23%\n",
      "Epoch 46, Train Loss: 0.2656\n",
      "Validation Accuracy: 18.37%\n",
      "Train Accuracy: 94.89%\n",
      "Epoch 47, Train Loss: 0.2396\n",
      "Validation Accuracy: 24.49%\n",
      "Train Accuracy: 95.57%\n",
      "Epoch 48, Train Loss: 0.2560\n",
      "Validation Accuracy: 14.29%\n",
      "Train Accuracy: 71.55%\n",
      "Epoch 49, Train Loss: 0.2830\n",
      "Validation Accuracy: 31.97%\n",
      "Train Accuracy: 83.13%\n",
      "Epoch 50, Train Loss: 0.3118\n",
      "Validation Accuracy: 23.13%\n",
      "Train Accuracy: 95.23%\n",
      "Epoch 51, Train Loss: 0.2118\n",
      "Validation Accuracy: 36.05%\n",
      "Train Accuracy: 95.74%\n",
      "Epoch 52, Train Loss: 0.1690\n",
      "Validation Accuracy: 12.24%\n",
      "Train Accuracy: 96.59%\n",
      "Epoch 53, Train Loss: 0.1842\n",
      "Validation Accuracy: 42.86%\n",
      "Train Accuracy: 90.80%\n",
      "Epoch 54, Train Loss: 0.1880\n",
      "Validation Accuracy: 17.01%\n",
      "Train Accuracy: 96.76%\n",
      "Epoch 55, Train Loss: 0.2000\n",
      "Validation Accuracy: 40.14%\n",
      "Train Accuracy: 95.40%\n",
      "Epoch 56, Train Loss: 0.2423\n",
      "Validation Accuracy: 12.24%\n",
      "Train Accuracy: 60.31%\n",
      "Epoch 57, Train Loss: 0.3574\n",
      "Validation Accuracy: 30.61%\n",
      "Train Accuracy: 93.53%\n",
      "Epoch 58, Train Loss: 0.2494\n",
      "Validation Accuracy: 8.84%\n",
      "Train Accuracy: 85.35%\n",
      "Epoch 59, Train Loss: 0.1758\n",
      "Validation Accuracy: 22.45%\n",
      "Train Accuracy: 96.42%\n",
      "Epoch 60, Train Loss: 0.1391\n",
      "Validation Accuracy: 23.81%\n",
      "Train Accuracy: 97.44%\n",
      "Epoch 61, Train Loss: 0.1132\n",
      "Validation Accuracy: 34.69%\n",
      "Train Accuracy: 96.93%\n",
      "Epoch 62, Train Loss: 0.0888\n",
      "Validation Accuracy: 29.93%\n",
      "Train Accuracy: 97.79%\n",
      "Epoch 63, Train Loss: 0.0832\n",
      "Validation Accuracy: 19.73%\n",
      "Train Accuracy: 98.47%\n",
      "Epoch 64, Train Loss: 0.0650\n",
      "Validation Accuracy: 21.77%\n",
      "Train Accuracy: 98.98%\n",
      "Epoch 65, Train Loss: 0.0722\n",
      "Validation Accuracy: 15.65%\n",
      "Train Accuracy: 98.47%\n",
      "Epoch 66, Train Loss: 0.0580\n",
      "Validation Accuracy: 27.89%\n",
      "Train Accuracy: 99.32%\n",
      "Epoch 67, Train Loss: 0.0627\n",
      "Validation Accuracy: 11.56%\n",
      "Train Accuracy: 98.81%\n",
      "Epoch 68, Train Loss: 0.0989\n",
      "Validation Accuracy: 11.56%\n",
      "Train Accuracy: 97.79%\n",
      "Epoch 69, Train Loss: 0.0882\n",
      "Validation Accuracy: 19.73%\n",
      "Train Accuracy: 98.64%\n",
      "Epoch 70, Train Loss: 0.0742\n",
      "Validation Accuracy: 19.73%\n",
      "Train Accuracy: 99.49%\n",
      "Epoch 71, Train Loss: 0.0573\n",
      "Validation Accuracy: 12.24%\n",
      "Train Accuracy: 99.15%\n",
      "Epoch 72, Train Loss: 0.0641\n",
      "Validation Accuracy: 12.24%\n",
      "Train Accuracy: 99.32%\n",
      "Epoch 73, Train Loss: 0.0588\n",
      "Validation Accuracy: 25.85%\n",
      "Train Accuracy: 98.98%\n",
      "Epoch 74, Train Loss: 0.0974\n",
      "Validation Accuracy: 9.52%\n",
      "Train Accuracy: 96.59%\n",
      "Epoch 75, Train Loss: 0.1828\n",
      "Validation Accuracy: 15.65%\n",
      "Train Accuracy: 89.44%\n",
      "Epoch 76, Train Loss: 0.1119\n",
      "Validation Accuracy: 18.37%\n",
      "Train Accuracy: 98.30%\n",
      "Epoch 77, Train Loss: 0.0946\n",
      "Validation Accuracy: 24.49%\n",
      "Train Accuracy: 99.66%\n",
      "Epoch 78, Train Loss: 0.1000\n",
      "Validation Accuracy: 31.29%\n",
      "Train Accuracy: 97.79%\n",
      "Epoch 79, Train Loss: 0.0930\n",
      "Validation Accuracy: 14.97%\n",
      "Train Accuracy: 98.81%\n",
      "Epoch 80, Train Loss: 0.0869\n",
      "Validation Accuracy: 14.97%\n",
      "Train Accuracy: 99.32%\n",
      "Epoch 81, Train Loss: 0.0760\n",
      "Validation Accuracy: 20.41%\n",
      "Train Accuracy: 98.98%\n",
      "Epoch 82, Train Loss: 0.0611\n",
      "Validation Accuracy: 12.24%\n",
      "Train Accuracy: 99.32%\n",
      "Epoch 83, Train Loss: 0.0399\n",
      "Validation Accuracy: 18.37%\n",
      "Train Accuracy: 99.66%\n",
      "Epoch 84, Train Loss: 0.0330\n",
      "Validation Accuracy: 16.33%\n",
      "Train Accuracy: 99.49%\n",
      "Epoch 85, Train Loss: 0.0367\n",
      "Validation Accuracy: 17.69%\n",
      "Train Accuracy: 99.66%\n",
      "Epoch 86, Train Loss: 0.0370\n",
      "Validation Accuracy: 32.65%\n",
      "Train Accuracy: 98.98%\n",
      "Epoch 87, Train Loss: 0.0507\n",
      "Validation Accuracy: 31.29%\n",
      "Train Accuracy: 99.32%\n",
      "Epoch 88, Train Loss: 0.0419\n",
      "Validation Accuracy: 25.17%\n",
      "Train Accuracy: 99.32%\n",
      "Epoch 89, Train Loss: 0.0332\n",
      "Validation Accuracy: 12.24%\n",
      "Train Accuracy: 99.32%\n",
      "Epoch 90, Train Loss: 0.0523\n",
      "Validation Accuracy: 11.56%\n",
      "Train Accuracy: 99.49%\n",
      "Epoch 91, Train Loss: 0.0807\n",
      "Validation Accuracy: 8.16%\n",
      "Train Accuracy: 94.72%\n",
      "Epoch 92, Train Loss: 0.0784\n",
      "Validation Accuracy: 14.29%\n",
      "Train Accuracy: 98.30%\n",
      "Epoch 93, Train Loss: 0.0808\n",
      "Validation Accuracy: 21.09%\n",
      "Train Accuracy: 99.66%\n",
      "Epoch 94, Train Loss: 0.0583\n",
      "Validation Accuracy: 27.21%\n",
      "Train Accuracy: 99.32%\n",
      "Epoch 95, Train Loss: 0.0523\n",
      "Validation Accuracy: 13.61%\n",
      "Train Accuracy: 99.66%\n",
      "Epoch 96, Train Loss: 0.0490\n",
      "Validation Accuracy: 18.37%\n",
      "Train Accuracy: 99.49%\n",
      "Epoch 97, Train Loss: 0.0377\n",
      "Validation Accuracy: 15.65%\n",
      "Train Accuracy: 99.83%\n",
      "Epoch 98, Train Loss: 0.0438\n",
      "Validation Accuracy: 14.97%\n",
      "Train Accuracy: 99.32%\n",
      "Epoch 99, Train Loss: 0.0434\n",
      "Validation Accuracy: 22.45%\n",
      "Train Accuracy: 99.49%\n",
      "Epoch 100, Train Loss: 0.0402\n",
      "Validation Accuracy: 20.41%\n",
      "Train Accuracy: 99.32%\n"
     ]
    },
    {
     "data": {
      "text/plain": [
       "(0.04021173593949298,\n",
       " 99.31856899488926,\n",
       " 20.408163265306122,\n",
       " 46.93877551020408,\n",
       " False)"
      ]
     },
     "execution_count": 6,
     "metadata": {},
     "output_type": "execute_result"
    }
   ],
   "execution_count": 6
  },
  {
   "metadata": {},
   "cell_type": "markdown",
   "source": "# Hyperparameter search",
   "id": "ea8445fd6c6bdf30"
  },
  {
   "metadata": {
    "ExecuteTime": {
     "end_time": "2025-04-08T02:01:30.681166Z",
     "start_time": "2025-04-08T01:00:50.633629Z"
    }
   },
   "cell_type": "code",
   "source": [
    "import optuna\n",
    "from optuna.pruners import MedianPruner\n",
    "from optuna.integration.wandb import WeightsAndBiasesCallback\n",
    "from src.cnn_classifier import CNNClassifier\n",
    "from src.resnet_cnn import ResNetCNN\n",
    "from datetime import datetime\n",
    "import time\n",
    "\n",
    "time_elapsed_trial = []\n",
    "\n",
    "# 1. Define an objective function to be maximized.\n",
    "def objective(trial):\n",
    "    someArgs = Args()\n",
    "\n",
    "    # Track time\n",
    "    print(f\"Starting trial {len(time_elapsed_trial)}\")\n",
    "    if len(time_elapsed_trial) > 0:\n",
    "        mean_time = 0\n",
    "        for i in time_elapsed_trial:\n",
    "            mean_time += i\n",
    "        mean_time /= len(time_elapsed_trial)\n",
    "        print(f\"Mean time per trial: {mean_time}\")\n",
    "    start_time = time.time()\n",
    "\n",
    "    # === 1. Suggest Hyperparameters ===\n",
    "    someArgs.lr = trial.suggest_float(\"learning_rate\", 1e-5, 1e-2, log=True)\n",
    "    someArgs.epochs = 150\n",
    "    model_type = 'cnn' # trial.suggest_categorical(\"architecture\", [\"resnet\", \"cnn\"])\n",
    "    activation_fn = trial.suggest_categorical(\"activation_fn\", [\"relu\", \"leaky_relu\", \"gelu\"])\n",
    "    someArgs.optimizer = trial.suggest_categorical(\"optimizer\", [\"adam\", \"sgd\", \"adamw\"])\n",
    "    someArgs.weight_decay = trial.suggest_float(\"weight_decay\", 1e-6, 1e-2, log=True)\n",
    "\n",
    "    # Train\n",
    "    if model_type == 'resnet':\n",
    "        model = ResNetCNN(activation_function=activation_fn)\n",
    "    else:\n",
    "        model = CNNClassifier(activation_function=activation_fn)\n",
    "    model = model.to(device)\n",
    "\n",
    "    run = wandb.init(\n",
    "        entity=entity,\n",
    "        project=project,\n",
    "        name=f\"{model_type}-emotion-prediction-{datetime.now().strftime('%Y%m%d-%H%M%S')}\",\n",
    "        config={\n",
    "            \"learning_rate\": someArgs.lr,\n",
    "            \"architecture\": model_type,\n",
    "            \"dataset\": \"MELD\",\n",
    "            \"epochs\": someArgs.epochs,\n",
    "            \"batch_size\": batch_size,\n",
    "        },\n",
    "        reinit=True,\n",
    "    )\n",
    "\n",
    "    train_loss, train_acc, val_acc, best_val_acc, pruned = TrainModel(model, someArgs, optuna_trial=trial)\n",
    "\n",
    "    run.finish()\n",
    "    if pruned:\n",
    "        end = time.time()\n",
    "        length = end - start_time\n",
    "        time_elapsed_trial.append(length)\n",
    "        raise optuna.exceptions.TrialPruned()\n",
    "\n",
    "\n",
    "    end = time.time()\n",
    "    length = end - start_time\n",
    "    time_elapsed_trial.append(length)\n",
    "    return best_val_acc\n",
    "\n",
    "# Log optuna result in wandb\n",
    "wandb_callback = WeightsAndBiasesCallback(\n",
    "    metric_name=\"val_acc\",\n",
    "    wandb_kwargs={\"entity\": entity, \"project\": project},\n",
    ")\n",
    "# Optuna tuning and pruning\n",
    "pruner = MedianPruner(n_warmup_steps=5)\n",
    "study = optuna.create_study(\n",
    "    direction='maximize',\n",
    "    pruner=pruner\n",
    ")\n",
    "time_to_run = 1 # this is hours\n",
    "time_to_run = int(time_to_run * 3600) #convert in seconds\n",
    "study.optimize(objective, timeout=time_to_run, callbacks=[wandb_callback], n_jobs=1)"
   ],
   "id": "add8f6193f85c38",
   "outputs": [
    {
     "name": "stderr",
     "output_type": "stream",
     "text": [
      "C:\\Users\\allar\\AppData\\Local\\Temp\\ipykernel_15324\\3852091136.py:70: ExperimentalWarning: WeightsAndBiasesCallback is experimental (supported from v2.9.0). The interface can change in the future.\n",
      "  wandb_callback = WeightsAndBiasesCallback(\n"
     ]
    },
    {
     "data": {
      "text/plain": [
       "<IPython.core.display.HTML object>"
      ],
      "text/html": []
     },
     "metadata": {},
     "output_type": "display_data"
    },
    {
     "data": {
      "text/plain": [
       "<IPython.core.display.HTML object>"
      ],
      "text/html": [
       " View run <strong style=\"color:#cdcd00\">cnn-emotion-prediction-20250407-210036</strong> at: <a href='https://wandb.ai/IFT6759-ADV_PROJECT/cnn-emotion-prediction/runs/kdc3prv8' target=\"_blank\">https://wandb.ai/IFT6759-ADV_PROJECT/cnn-emotion-prediction/runs/kdc3prv8</a><br> View project at: <a href='https://wandb.ai/IFT6759-ADV_PROJECT/cnn-emotion-prediction' target=\"_blank\">https://wandb.ai/IFT6759-ADV_PROJECT/cnn-emotion-prediction</a><br>Synced 5 W&B file(s), 0 media file(s), 0 artifact file(s) and 0 other file(s)"
      ]
     },
     "metadata": {},
     "output_type": "display_data"
    },
    {
     "data": {
      "text/plain": [
       "<IPython.core.display.HTML object>"
      ],
      "text/html": [
       "Find logs at: <code>.\\wandb\\run-20250407_210036-kdc3prv8\\logs</code>"
      ]
     },
     "metadata": {},
     "output_type": "display_data"
    },
    {
     "data": {
      "text/plain": [
       "<IPython.core.display.HTML object>"
      ],
      "text/html": [
       "Tracking run with wandb version 0.19.9"
      ]
     },
     "metadata": {},
     "output_type": "display_data"
    },
    {
     "data": {
      "text/plain": [
       "<IPython.core.display.HTML object>"
      ],
      "text/html": [
       "Run data is saved locally in <code>C:\\Users\\allar\\Documents\\UdeM\\IFT6759 AdvProject\\Projet\\IFT-6759-Advanced-ML-Project\\wandb\\run-20250407_210050-2kejw3pl</code>"
      ]
     },
     "metadata": {},
     "output_type": "display_data"
    },
    {
     "data": {
      "text/plain": [
       "<IPython.core.display.HTML object>"
      ],
      "text/html": [
       "Syncing run <strong><a href='https://wandb.ai/IFT6759-ADV_PROJECT/cnn-emotion-prediction/runs/2kejw3pl' target=\"_blank\">lilac-field-94</a></strong> to <a href='https://wandb.ai/IFT6759-ADV_PROJECT/cnn-emotion-prediction' target=\"_blank\">Weights & Biases</a> (<a href='https://wandb.me/developer-guide' target=\"_blank\">docs</a>)<br>"
      ]
     },
     "metadata": {},
     "output_type": "display_data"
    },
    {
     "data": {
      "text/plain": [
       "<IPython.core.display.HTML object>"
      ],
      "text/html": [
       " View project at <a href='https://wandb.ai/IFT6759-ADV_PROJECT/cnn-emotion-prediction' target=\"_blank\">https://wandb.ai/IFT6759-ADV_PROJECT/cnn-emotion-prediction</a>"
      ]
     },
     "metadata": {},
     "output_type": "display_data"
    },
    {
     "data": {
      "text/plain": [
       "<IPython.core.display.HTML object>"
      ],
      "text/html": [
       " View run at <a href='https://wandb.ai/IFT6759-ADV_PROJECT/cnn-emotion-prediction/runs/2kejw3pl' target=\"_blank\">https://wandb.ai/IFT6759-ADV_PROJECT/cnn-emotion-prediction/runs/2kejw3pl</a>"
      ]
     },
     "metadata": {},
     "output_type": "display_data"
    },
    {
     "name": "stderr",
     "output_type": "stream",
     "text": [
      "[I 2025-04-07 21:00:51,685] A new study created in memory with name: no-name-fa0dde68-7f8c-408d-b4d1-b4f1b46877d3\n"
     ]
    },
    {
     "name": "stdout",
     "output_type": "stream",
     "text": [
      "Starting trial 0\n"
     ]
    },
    {
     "data": {
      "text/plain": [
       "<IPython.core.display.HTML object>"
      ],
      "text/html": []
     },
     "metadata": {},
     "output_type": "display_data"
    },
    {
     "data": {
      "text/plain": [
       "<IPython.core.display.HTML object>"
      ],
      "text/html": [
       " View run <strong style=\"color:#cdcd00\">lilac-field-94</strong> at: <a href='https://wandb.ai/IFT6759-ADV_PROJECT/cnn-emotion-prediction/runs/2kejw3pl' target=\"_blank\">https://wandb.ai/IFT6759-ADV_PROJECT/cnn-emotion-prediction/runs/2kejw3pl</a><br> View project at: <a href='https://wandb.ai/IFT6759-ADV_PROJECT/cnn-emotion-prediction' target=\"_blank\">https://wandb.ai/IFT6759-ADV_PROJECT/cnn-emotion-prediction</a><br>Synced 5 W&B file(s), 0 media file(s), 0 artifact file(s) and 0 other file(s)"
      ]
     },
     "metadata": {},
     "output_type": "display_data"
    },
    {
     "data": {
      "text/plain": [
       "<IPython.core.display.HTML object>"
      ],
      "text/html": [
       "Find logs at: <code>.\\wandb\\run-20250407_210050-2kejw3pl\\logs</code>"
      ]
     },
     "metadata": {},
     "output_type": "display_data"
    },
    {
     "data": {
      "text/plain": [
       "<IPython.core.display.HTML object>"
      ],
      "text/html": [
       "Tracking run with wandb version 0.19.9"
      ]
     },
     "metadata": {},
     "output_type": "display_data"
    },
    {
     "data": {
      "text/plain": [
       "<IPython.core.display.HTML object>"
      ],
      "text/html": [
       "Run data is saved locally in <code>C:\\Users\\allar\\Documents\\UdeM\\IFT6759 AdvProject\\Projet\\IFT-6759-Advanced-ML-Project\\wandb\\run-20250407_210051-v0i5ep70</code>"
      ]
     },
     "metadata": {},
     "output_type": "display_data"
    },
    {
     "data": {
      "text/plain": [
       "<IPython.core.display.HTML object>"
      ],
      "text/html": [
       "Syncing run <strong><a href='https://wandb.ai/IFT6759-ADV_PROJECT/cnn-emotion-prediction/runs/v0i5ep70' target=\"_blank\">cnn-emotion-prediction-20250407-210051</a></strong> to <a href='https://wandb.ai/IFT6759-ADV_PROJECT/cnn-emotion-prediction' target=\"_blank\">Weights & Biases</a> (<a href='https://wandb.me/developer-guide' target=\"_blank\">docs</a>)<br>"
      ]
     },
     "metadata": {},
     "output_type": "display_data"
    },
    {
     "data": {
      "text/plain": [
       "<IPython.core.display.HTML object>"
      ],
      "text/html": [
       " View project at <a href='https://wandb.ai/IFT6759-ADV_PROJECT/cnn-emotion-prediction' target=\"_blank\">https://wandb.ai/IFT6759-ADV_PROJECT/cnn-emotion-prediction</a>"
      ]
     },
     "metadata": {},
     "output_type": "display_data"
    },
    {
     "data": {
      "text/plain": [
       "<IPython.core.display.HTML object>"
      ],
      "text/html": [
       " View run at <a href='https://wandb.ai/IFT6759-ADV_PROJECT/cnn-emotion-prediction/runs/v0i5ep70' target=\"_blank\">https://wandb.ai/IFT6759-ADV_PROJECT/cnn-emotion-prediction/runs/v0i5ep70</a>"
      ]
     },
     "metadata": {},
     "output_type": "display_data"
    },
    {
     "name": "stdout",
     "output_type": "stream",
     "text": [
      "Epoch 1, Train Loss: 1.7462\n",
      "Validation Accuracy: 42.86%\n",
      "Train Accuracy: 46.00%\n",
      "Epoch 2, Train Loss: 1.6153\n",
      "Validation Accuracy: 44.90%\n",
      "Train Accuracy: 45.14%\n",
      "Epoch 3, Train Loss: 1.5630\n",
      "Validation Accuracy: 44.90%\n",
      "Train Accuracy: 45.14%\n",
      "Epoch 4, Train Loss: 1.5373\n",
      "Validation Accuracy: 44.90%\n",
      "Train Accuracy: 45.14%\n",
      "Epoch 5, Train Loss: 1.5032\n",
      "Validation Accuracy: 44.90%\n",
      "Train Accuracy: 45.14%\n",
      "Epoch 6, Train Loss: 1.5161\n",
      "Validation Accuracy: 44.22%\n",
      "Train Accuracy: 54.00%\n",
      "Epoch 7, Train Loss: 1.4135\n",
      "Validation Accuracy: 44.90%\n",
      "Train Accuracy: 45.14%\n",
      "Epoch 8, Train Loss: 1.3152\n",
      "Validation Accuracy: 44.90%\n",
      "Train Accuracy: 45.49%\n",
      "Epoch 9, Train Loss: 1.0893\n",
      "Validation Accuracy: 45.58%\n",
      "Train Accuracy: 66.27%\n",
      "Epoch 10, Train Loss: 0.9221\n",
      "Validation Accuracy: 34.01%\n",
      "Train Accuracy: 74.62%\n",
      "Epoch 11, Train Loss: 0.8691\n",
      "Validation Accuracy: 25.17%\n",
      "Train Accuracy: 93.02%\n",
      "Epoch 12, Train Loss: 0.7405\n",
      "Validation Accuracy: 38.10%\n",
      "Train Accuracy: 89.44%\n",
      "Epoch 13, Train Loss: 0.5728\n",
      "Validation Accuracy: 42.86%\n",
      "Train Accuracy: 97.27%\n",
      "Epoch 14, Train Loss: 0.4613\n",
      "Validation Accuracy: 42.18%\n",
      "Train Accuracy: 98.98%\n",
      "Epoch 15, Train Loss: 0.3863\n",
      "Validation Accuracy: 42.86%\n",
      "Train Accuracy: 94.89%\n",
      "Epoch 16, Train Loss: 0.3651\n",
      "Validation Accuracy: 44.90%\n",
      "Train Accuracy: 99.66%\n",
      "Epoch 17, Train Loss: 0.3344\n",
      "Validation Accuracy: 43.54%\n",
      "Train Accuracy: 99.83%\n",
      "Epoch 18, Train Loss: 0.2973\n",
      "Validation Accuracy: 45.58%\n",
      "Train Accuracy: 100.00%\n",
      "Epoch 19, Train Loss: 0.2120\n",
      "Validation Accuracy: 32.65%\n",
      "Train Accuracy: 100.00%\n",
      "Epoch 20, Train Loss: 0.2352\n",
      "Validation Accuracy: 43.54%\n",
      "Train Accuracy: 100.00%\n",
      "Epoch 21, Train Loss: 0.1810\n",
      "Validation Accuracy: 44.22%\n",
      "Train Accuracy: 100.00%\n",
      "Epoch 22, Train Loss: 0.1679\n",
      "Validation Accuracy: 43.54%\n",
      "Train Accuracy: 100.00%\n",
      "Epoch 23, Train Loss: 0.1329\n",
      "Validation Accuracy: 37.41%\n",
      "Train Accuracy: 100.00%\n",
      "Epoch 24, Train Loss: 0.1403\n",
      "Validation Accuracy: 41.50%\n",
      "Train Accuracy: 100.00%\n",
      "Epoch 25, Train Loss: 0.1241\n",
      "Validation Accuracy: 36.73%\n",
      "Train Accuracy: 100.00%\n",
      "Epoch 26, Train Loss: 0.1296\n",
      "Validation Accuracy: 43.54%\n",
      "Train Accuracy: 100.00%\n",
      "Epoch 27, Train Loss: 0.1104\n",
      "Validation Accuracy: 36.73%\n",
      "Train Accuracy: 100.00%\n",
      "Epoch 28, Train Loss: 0.1183\n",
      "Validation Accuracy: 44.22%\n",
      "Train Accuracy: 100.00%\n",
      "Epoch 29, Train Loss: 0.1088\n",
      "Validation Accuracy: 44.22%\n",
      "Train Accuracy: 100.00%\n",
      "Epoch 30, Train Loss: 0.1074\n",
      "Validation Accuracy: 43.54%\n",
      "Train Accuracy: 100.00%\n",
      "Epoch 31, Train Loss: 0.0916\n",
      "Validation Accuracy: 42.18%\n",
      "Train Accuracy: 100.00%\n",
      "Epoch 32, Train Loss: 0.0963\n",
      "Validation Accuracy: 43.54%\n",
      "Train Accuracy: 100.00%\n",
      "Epoch 33, Train Loss: 0.0686\n",
      "Validation Accuracy: 43.54%\n",
      "Train Accuracy: 100.00%\n",
      "Epoch 34, Train Loss: 0.0822\n",
      "Validation Accuracy: 39.46%\n",
      "Train Accuracy: 100.00%\n",
      "Epoch 35, Train Loss: 0.0713\n",
      "Validation Accuracy: 40.82%\n",
      "Train Accuracy: 100.00%\n",
      "Epoch 36, Train Loss: 0.0677\n",
      "Validation Accuracy: 42.86%\n",
      "Train Accuracy: 100.00%\n",
      "Epoch 37, Train Loss: 0.0591\n",
      "Validation Accuracy: 42.86%\n",
      "Train Accuracy: 100.00%\n",
      "Epoch 38, Train Loss: 0.0683\n",
      "Validation Accuracy: 43.54%\n",
      "Train Accuracy: 100.00%\n",
      "Epoch 39, Train Loss: 0.0556\n",
      "Validation Accuracy: 39.46%\n",
      "Train Accuracy: 100.00%\n",
      "Epoch 40, Train Loss: 0.0750\n",
      "Validation Accuracy: 39.46%\n",
      "Train Accuracy: 100.00%\n",
      "Epoch 41, Train Loss: 0.0686\n",
      "Validation Accuracy: 41.50%\n",
      "Train Accuracy: 100.00%\n",
      "Epoch 42, Train Loss: 0.0636\n",
      "Validation Accuracy: 44.90%\n",
      "Train Accuracy: 100.00%\n",
      "Epoch 43, Train Loss: 0.0539\n",
      "Validation Accuracy: 42.86%\n",
      "Train Accuracy: 100.00%\n",
      "Epoch 44, Train Loss: 0.0608\n",
      "Validation Accuracy: 34.69%\n",
      "Train Accuracy: 100.00%\n",
      "Epoch 45, Train Loss: 0.0700\n",
      "Validation Accuracy: 39.46%\n",
      "Train Accuracy: 100.00%\n",
      "Epoch 46, Train Loss: 0.0593\n",
      "Validation Accuracy: 40.14%\n",
      "Train Accuracy: 100.00%\n",
      "Epoch 47, Train Loss: 0.0454\n",
      "Validation Accuracy: 43.54%\n",
      "Train Accuracy: 100.00%\n",
      "Epoch 48, Train Loss: 0.0589\n",
      "Validation Accuracy: 35.37%\n",
      "Train Accuracy: 100.00%\n",
      "Epoch 49, Train Loss: 0.0574\n",
      "Validation Accuracy: 44.90%\n",
      "Train Accuracy: 100.00%\n",
      "Epoch 50, Train Loss: 0.0393\n",
      "Validation Accuracy: 40.14%\n",
      "Train Accuracy: 100.00%\n",
      "Epoch 51, Train Loss: 0.0407\n",
      "Validation Accuracy: 38.10%\n",
      "Train Accuracy: 100.00%\n",
      "Epoch 52, Train Loss: 0.0367\n",
      "Validation Accuracy: 39.46%\n",
      "Train Accuracy: 100.00%\n",
      "Epoch 53, Train Loss: 0.0414\n",
      "Validation Accuracy: 40.14%\n",
      "Train Accuracy: 100.00%\n",
      "Epoch 54, Train Loss: 0.0303\n",
      "Validation Accuracy: 40.14%\n",
      "Train Accuracy: 100.00%\n",
      "Epoch 55, Train Loss: 0.0310\n",
      "Validation Accuracy: 36.73%\n",
      "Train Accuracy: 100.00%\n",
      "Epoch 56, Train Loss: 0.0380\n",
      "Validation Accuracy: 42.86%\n",
      "Train Accuracy: 100.00%\n",
      "Epoch 57, Train Loss: 0.0546\n",
      "Validation Accuracy: 43.54%\n",
      "Train Accuracy: 100.00%\n",
      "Epoch 58, Train Loss: 0.0316\n",
      "Validation Accuracy: 41.50%\n",
      "Train Accuracy: 100.00%\n",
      "Epoch 59, Train Loss: 0.0290\n",
      "Validation Accuracy: 42.86%\n",
      "Train Accuracy: 100.00%\n",
      "Epoch 60, Train Loss: 0.0531\n",
      "Validation Accuracy: 38.78%\n",
      "Train Accuracy: 100.00%\n",
      "Epoch 61, Train Loss: 0.0521\n",
      "Validation Accuracy: 43.54%\n",
      "Train Accuracy: 100.00%\n",
      "Epoch 62, Train Loss: 0.0450\n",
      "Validation Accuracy: 43.54%\n",
      "Train Accuracy: 100.00%\n",
      "Epoch 63, Train Loss: 0.0498\n",
      "Validation Accuracy: 34.69%\n",
      "Train Accuracy: 100.00%\n",
      "Epoch 64, Train Loss: 0.0418\n",
      "Validation Accuracy: 44.22%\n",
      "Train Accuracy: 100.00%\n",
      "Epoch 65, Train Loss: 0.0375\n",
      "Validation Accuracy: 40.14%\n",
      "Train Accuracy: 100.00%\n",
      "Epoch 66, Train Loss: 0.0265\n",
      "Validation Accuracy: 41.50%\n",
      "Train Accuracy: 100.00%\n",
      "Epoch 67, Train Loss: 0.0441\n",
      "Validation Accuracy: 43.54%\n",
      "Train Accuracy: 100.00%\n",
      "Epoch 68, Train Loss: 0.0383\n",
      "Validation Accuracy: 34.01%\n",
      "Train Accuracy: 100.00%\n",
      "Epoch 69, Train Loss: 0.0455\n",
      "Validation Accuracy: 29.25%\n",
      "Train Accuracy: 100.00%\n",
      "Epoch 70, Train Loss: 0.0551\n",
      "Validation Accuracy: 41.50%\n",
      "Train Accuracy: 100.00%\n",
      "Epoch 71, Train Loss: 0.0380\n",
      "Validation Accuracy: 44.22%\n",
      "Train Accuracy: 100.00%\n",
      "Epoch 72, Train Loss: 0.0516\n",
      "Validation Accuracy: 42.86%\n",
      "Train Accuracy: 100.00%\n",
      "Epoch 73, Train Loss: 0.0314\n",
      "Validation Accuracy: 40.82%\n",
      "Train Accuracy: 100.00%\n",
      "Epoch 74, Train Loss: 0.0403\n",
      "Validation Accuracy: 41.50%\n",
      "Train Accuracy: 100.00%\n",
      "Epoch 75, Train Loss: 0.0375\n",
      "Validation Accuracy: 37.41%\n",
      "Train Accuracy: 100.00%\n",
      "Epoch 76, Train Loss: 0.0439\n",
      "Validation Accuracy: 38.10%\n",
      "Train Accuracy: 100.00%\n",
      "Epoch 77, Train Loss: 0.0415\n",
      "Validation Accuracy: 31.29%\n",
      "Train Accuracy: 100.00%\n",
      "Epoch 78, Train Loss: 0.0351\n",
      "Validation Accuracy: 36.73%\n",
      "Train Accuracy: 100.00%\n",
      "Epoch 79, Train Loss: 0.0285\n",
      "Validation Accuracy: 36.73%\n",
      "Train Accuracy: 100.00%\n",
      "Epoch 80, Train Loss: 0.0390\n",
      "Validation Accuracy: 42.86%\n",
      "Train Accuracy: 100.00%\n",
      "Epoch 81, Train Loss: 0.0350\n",
      "Validation Accuracy: 40.14%\n",
      "Train Accuracy: 100.00%\n",
      "Epoch 82, Train Loss: 0.0204\n",
      "Validation Accuracy: 41.50%\n",
      "Train Accuracy: 100.00%\n",
      "Epoch 83, Train Loss: 0.0206\n",
      "Validation Accuracy: 41.50%\n",
      "Train Accuracy: 100.00%\n",
      "Epoch 84, Train Loss: 0.0235\n",
      "Validation Accuracy: 38.10%\n",
      "Train Accuracy: 100.00%\n",
      "Epoch 85, Train Loss: 0.0226\n",
      "Validation Accuracy: 40.82%\n",
      "Train Accuracy: 100.00%\n",
      "Epoch 86, Train Loss: 0.0262\n",
      "Validation Accuracy: 29.25%\n",
      "Train Accuracy: 100.00%\n",
      "Epoch 87, Train Loss: 0.0391\n",
      "Validation Accuracy: 26.53%\n",
      "Train Accuracy: 100.00%\n",
      "Epoch 88, Train Loss: 0.0469\n",
      "Validation Accuracy: 42.18%\n",
      "Train Accuracy: 100.00%\n",
      "Epoch 89, Train Loss: 0.0255\n",
      "Validation Accuracy: 41.50%\n",
      "Train Accuracy: 100.00%\n",
      "Epoch 90, Train Loss: 0.0337\n",
      "Validation Accuracy: 37.41%\n",
      "Train Accuracy: 100.00%\n",
      "Epoch 91, Train Loss: 0.0413\n",
      "Validation Accuracy: 41.50%\n",
      "Train Accuracy: 100.00%\n",
      "Epoch 92, Train Loss: 0.0155\n",
      "Validation Accuracy: 42.86%\n",
      "Train Accuracy: 100.00%\n",
      "Epoch 93, Train Loss: 0.0284\n",
      "Validation Accuracy: 34.01%\n",
      "Train Accuracy: 100.00%\n",
      "Epoch 94, Train Loss: 0.0276\n",
      "Validation Accuracy: 42.86%\n",
      "Train Accuracy: 100.00%\n",
      "Epoch 95, Train Loss: 0.0181\n",
      "Validation Accuracy: 45.58%\n",
      "Train Accuracy: 100.00%\n",
      "Epoch 96, Train Loss: 0.0267\n",
      "Validation Accuracy: 44.22%\n",
      "Train Accuracy: 100.00%\n",
      "Epoch 97, Train Loss: 0.0417\n",
      "Validation Accuracy: 34.69%\n",
      "Train Accuracy: 100.00%\n",
      "Epoch 98, Train Loss: 0.0476\n",
      "Validation Accuracy: 32.65%\n",
      "Train Accuracy: 100.00%\n",
      "Epoch 99, Train Loss: 0.0189\n",
      "Validation Accuracy: 41.50%\n",
      "Train Accuracy: 100.00%\n",
      "Epoch 100, Train Loss: 0.0223\n",
      "Validation Accuracy: 41.50%\n",
      "Train Accuracy: 100.00%\n",
      "Epoch 101, Train Loss: 0.0132\n",
      "Validation Accuracy: 39.46%\n",
      "Train Accuracy: 100.00%\n",
      "Epoch 102, Train Loss: 0.0180\n",
      "Validation Accuracy: 42.86%\n",
      "Train Accuracy: 100.00%\n",
      "Epoch 103, Train Loss: 0.0304\n",
      "Validation Accuracy: 43.54%\n",
      "Train Accuracy: 100.00%\n",
      "Epoch 104, Train Loss: 0.0369\n",
      "Validation Accuracy: 42.18%\n",
      "Train Accuracy: 100.00%\n",
      "Epoch 105, Train Loss: 0.0295\n",
      "Validation Accuracy: 41.50%\n",
      "Train Accuracy: 100.00%\n",
      "Epoch 106, Train Loss: 0.0298\n",
      "Validation Accuracy: 36.73%\n",
      "Train Accuracy: 100.00%\n",
      "Epoch 107, Train Loss: 0.0392\n",
      "Validation Accuracy: 41.50%\n",
      "Train Accuracy: 100.00%\n",
      "Epoch 108, Train Loss: 0.0320\n",
      "Validation Accuracy: 34.69%\n",
      "Train Accuracy: 100.00%\n",
      "Epoch 109, Train Loss: 0.0378\n",
      "Validation Accuracy: 40.82%\n",
      "Train Accuracy: 100.00%\n",
      "Epoch 110, Train Loss: 0.0249\n",
      "Validation Accuracy: 35.37%\n",
      "Train Accuracy: 100.00%\n",
      "Epoch 111, Train Loss: 0.0270\n",
      "Validation Accuracy: 38.10%\n",
      "Train Accuracy: 100.00%\n",
      "Epoch 112, Train Loss: 0.0146\n",
      "Validation Accuracy: 38.10%\n",
      "Train Accuracy: 100.00%\n",
      "Epoch 113, Train Loss: 0.0369\n",
      "Validation Accuracy: 38.10%\n",
      "Train Accuracy: 100.00%\n",
      "Epoch 114, Train Loss: 0.0190\n",
      "Validation Accuracy: 36.73%\n",
      "Train Accuracy: 100.00%\n",
      "Epoch 115, Train Loss: 0.0166\n",
      "Validation Accuracy: 40.14%\n",
      "Train Accuracy: 100.00%\n",
      "Epoch 116, Train Loss: 0.0359\n",
      "Validation Accuracy: 29.93%\n",
      "Train Accuracy: 100.00%\n",
      "Epoch 117, Train Loss: 0.0405\n",
      "Validation Accuracy: 44.22%\n",
      "Train Accuracy: 100.00%\n",
      "Epoch 118, Train Loss: 0.0439\n",
      "Validation Accuracy: 41.50%\n",
      "Train Accuracy: 100.00%\n",
      "Epoch 119, Train Loss: 0.0311\n",
      "Validation Accuracy: 36.05%\n",
      "Train Accuracy: 100.00%\n",
      "Epoch 120, Train Loss: 0.0774\n",
      "Validation Accuracy: 42.18%\n",
      "Train Accuracy: 99.15%\n",
      "Epoch 121, Train Loss: 0.0411\n",
      "Validation Accuracy: 41.50%\n",
      "Train Accuracy: 100.00%\n",
      "Epoch 122, Train Loss: 0.0950\n",
      "Validation Accuracy: 39.46%\n",
      "Train Accuracy: 100.00%\n",
      "Epoch 123, Train Loss: 0.0306\n",
      "Validation Accuracy: 31.97%\n",
      "Train Accuracy: 100.00%\n",
      "Epoch 124, Train Loss: 0.0334\n",
      "Validation Accuracy: 42.18%\n",
      "Train Accuracy: 100.00%\n",
      "Epoch 125, Train Loss: 0.0302\n",
      "Validation Accuracy: 42.18%\n",
      "Train Accuracy: 100.00%\n",
      "Epoch 126, Train Loss: 0.0168\n",
      "Validation Accuracy: 41.50%\n",
      "Train Accuracy: 100.00%\n",
      "Epoch 127, Train Loss: 0.0127\n",
      "Validation Accuracy: 40.82%\n",
      "Train Accuracy: 100.00%\n",
      "Epoch 128, Train Loss: 0.0143\n",
      "Validation Accuracy: 38.78%\n",
      "Train Accuracy: 100.00%\n",
      "Epoch 129, Train Loss: 0.0207\n",
      "Validation Accuracy: 41.50%\n",
      "Train Accuracy: 100.00%\n",
      "Epoch 130, Train Loss: 0.0276\n",
      "Validation Accuracy: 38.78%\n",
      "Train Accuracy: 100.00%\n",
      "Epoch 131, Train Loss: 0.0311\n",
      "Validation Accuracy: 32.65%\n",
      "Train Accuracy: 100.00%\n",
      "Epoch 132, Train Loss: 0.0578\n",
      "Validation Accuracy: 36.73%\n",
      "Train Accuracy: 100.00%\n",
      "Epoch 133, Train Loss: 0.0267\n",
      "Validation Accuracy: 36.05%\n",
      "Train Accuracy: 100.00%\n",
      "Epoch 134, Train Loss: 0.0274\n",
      "Validation Accuracy: 36.73%\n",
      "Train Accuracy: 100.00%\n",
      "Epoch 135, Train Loss: 0.0328\n",
      "Validation Accuracy: 36.73%\n",
      "Train Accuracy: 100.00%\n",
      "Epoch 136, Train Loss: 0.0616\n",
      "Validation Accuracy: 40.14%\n",
      "Train Accuracy: 100.00%\n",
      "Epoch 137, Train Loss: 0.0457\n",
      "Validation Accuracy: 42.86%\n",
      "Train Accuracy: 100.00%\n",
      "Epoch 138, Train Loss: 0.0489\n",
      "Validation Accuracy: 44.22%\n",
      "Train Accuracy: 100.00%\n",
      "Epoch 139, Train Loss: 0.0270\n",
      "Validation Accuracy: 42.86%\n",
      "Train Accuracy: 100.00%\n",
      "Epoch 140, Train Loss: 0.0376\n",
      "Validation Accuracy: 39.46%\n",
      "Train Accuracy: 100.00%\n",
      "Epoch 141, Train Loss: 0.0306\n",
      "Validation Accuracy: 37.41%\n",
      "Train Accuracy: 100.00%\n",
      "Epoch 142, Train Loss: 0.0191\n",
      "Validation Accuracy: 41.50%\n",
      "Train Accuracy: 100.00%\n",
      "Epoch 143, Train Loss: 0.0343\n",
      "Validation Accuracy: 42.86%\n",
      "Train Accuracy: 100.00%\n",
      "Epoch 144, Train Loss: 0.0312\n",
      "Validation Accuracy: 42.18%\n",
      "Train Accuracy: 100.00%\n",
      "Epoch 145, Train Loss: 0.0449\n",
      "Validation Accuracy: 35.37%\n",
      "Train Accuracy: 100.00%\n",
      "Epoch 146, Train Loss: 0.0359\n",
      "Validation Accuracy: 38.10%\n",
      "Train Accuracy: 100.00%\n",
      "Epoch 147, Train Loss: 0.0330\n",
      "Validation Accuracy: 36.73%\n",
      "Train Accuracy: 100.00%\n",
      "Epoch 148, Train Loss: 0.0355\n",
      "Validation Accuracy: 42.18%\n",
      "Train Accuracy: 100.00%\n",
      "Epoch 149, Train Loss: 0.0230\n",
      "Validation Accuracy: 44.22%\n",
      "Train Accuracy: 100.00%\n",
      "Epoch 150, Train Loss: 0.0165\n",
      "Validation Accuracy: 43.54%\n",
      "Train Accuracy: 100.00%\n"
     ]
    },
    {
     "data": {
      "text/plain": [
       "<IPython.core.display.HTML object>"
      ],
      "text/html": []
     },
     "metadata": {},
     "output_type": "display_data"
    },
    {
     "data": {
      "text/plain": [
       "<IPython.core.display.HTML object>"
      ],
      "text/html": [
       "<br>    <style><br>        .wandb-row {<br>            display: flex;<br>            flex-direction: row;<br>            flex-wrap: wrap;<br>            justify-content: flex-start;<br>            width: 100%;<br>        }<br>        .wandb-col {<br>            display: flex;<br>            flex-direction: column;<br>            flex-basis: 100%;<br>            flex: 1;<br>            padding: 10px;<br>        }<br>    </style><br><div class=\"wandb-row\"><div class=\"wandb-col\"><h3>Run history:</h3><br/><table class=\"wandb\"><tr><td>train_acc</td><td>▁▁▂▁▇███████████████████████████████████</td></tr><tr><td>train_loss</td><td>███▇▆▂▂▂▁▁▁▁▁▁▁▁▁▁▁▁▁▁▁▁▁▁▁▁▁▁▁▁▁▁▁▁▁▁▁▁</td></tr><tr><td>val_acc</td><td>▇██▃▅█▄█▇▆▆▆▅▆▆▃▆▆▇▁▄▆▅█▆▆▇▄▅▅▇▆▇▇▆▃▄█▆█</td></tr></table><br/></div><div class=\"wandb-col\"><h3>Run summary:</h3><br/><table class=\"wandb\"><tr><td>train_acc</td><td>100</td></tr><tr><td>train_loss</td><td>0.01645</td></tr><tr><td>val_acc</td><td>43.53741</td></tr></table><br/></div></div>"
      ]
     },
     "metadata": {},
     "output_type": "display_data"
    },
    {
     "data": {
      "text/plain": [
       "<IPython.core.display.HTML object>"
      ],
      "text/html": [
       " View run <strong style=\"color:#cdcd00\">cnn-emotion-prediction-20250407-210051</strong> at: <a href='https://wandb.ai/IFT6759-ADV_PROJECT/cnn-emotion-prediction/runs/v0i5ep70' target=\"_blank\">https://wandb.ai/IFT6759-ADV_PROJECT/cnn-emotion-prediction/runs/v0i5ep70</a><br> View project at: <a href='https://wandb.ai/IFT6759-ADV_PROJECT/cnn-emotion-prediction' target=\"_blank\">https://wandb.ai/IFT6759-ADV_PROJECT/cnn-emotion-prediction</a><br>Synced 5 W&B file(s), 0 media file(s), 0 artifact file(s) and 0 other file(s)"
      ]
     },
     "metadata": {},
     "output_type": "display_data"
    },
    {
     "data": {
      "text/plain": [
       "<IPython.core.display.HTML object>"
      ],
      "text/html": [
       "Find logs at: <code>.\\wandb\\run-20250407_210051-v0i5ep70\\logs</code>"
      ]
     },
     "metadata": {},
     "output_type": "display_data"
    },
    {
     "name": "stderr",
     "output_type": "stream",
     "text": [
      "[I 2025-04-07 21:15:54,861] Trial 0 finished with value: 45.57823129251701 and parameters: {'learning_rate': 0.0007338766141599813, 'activation_fn': 'relu', 'optimizer': 'adamw', 'weight_decay': 0.0004941329910006701}. Best is trial 0 with value: 45.57823129251701.\n"
     ]
    },
    {
     "data": {
      "text/plain": [
       "<IPython.core.display.HTML object>"
      ],
      "text/html": [
       "Tracking run with wandb version 0.19.9"
      ]
     },
     "metadata": {},
     "output_type": "display_data"
    },
    {
     "data": {
      "text/plain": [
       "<IPython.core.display.HTML object>"
      ],
      "text/html": [
       "Run data is saved locally in <code>C:\\Users\\allar\\Documents\\UdeM\\IFT6759 AdvProject\\Projet\\IFT-6759-Advanced-ML-Project\\wandb\\run-20250407_211554-qvw23tys</code>"
      ]
     },
     "metadata": {},
     "output_type": "display_data"
    },
    {
     "data": {
      "text/plain": [
       "<IPython.core.display.HTML object>"
      ],
      "text/html": [
       "Syncing run <strong><a href='https://wandb.ai/IFT6759-ADV_PROJECT/cnn-emotion-prediction/runs/qvw23tys' target=\"_blank\">brisk-brook-96</a></strong> to <a href='https://wandb.ai/IFT6759-ADV_PROJECT/cnn-emotion-prediction' target=\"_blank\">Weights & Biases</a> (<a href='https://wandb.me/developer-guide' target=\"_blank\">docs</a>)<br>"
      ]
     },
     "metadata": {},
     "output_type": "display_data"
    },
    {
     "data": {
      "text/plain": [
       "<IPython.core.display.HTML object>"
      ],
      "text/html": [
       " View project at <a href='https://wandb.ai/IFT6759-ADV_PROJECT/cnn-emotion-prediction' target=\"_blank\">https://wandb.ai/IFT6759-ADV_PROJECT/cnn-emotion-prediction</a>"
      ]
     },
     "metadata": {},
     "output_type": "display_data"
    },
    {
     "data": {
      "text/plain": [
       "<IPython.core.display.HTML object>"
      ],
      "text/html": [
       " View run at <a href='https://wandb.ai/IFT6759-ADV_PROJECT/cnn-emotion-prediction/runs/qvw23tys' target=\"_blank\">https://wandb.ai/IFT6759-ADV_PROJECT/cnn-emotion-prediction/runs/qvw23tys</a>"
      ]
     },
     "metadata": {},
     "output_type": "display_data"
    },
    {
     "name": "stdout",
     "output_type": "stream",
     "text": [
      "Starting trial 1\n",
      "Mean time per trial: 903.1729183197021\n"
     ]
    },
    {
     "data": {
      "text/plain": [
       "<IPython.core.display.HTML object>"
      ],
      "text/html": []
     },
     "metadata": {},
     "output_type": "display_data"
    },
    {
     "data": {
      "text/plain": [
       "<IPython.core.display.HTML object>"
      ],
      "text/html": [
       "<br>    <style><br>        .wandb-row {<br>            display: flex;<br>            flex-direction: row;<br>            flex-wrap: wrap;<br>            justify-content: flex-start;<br>            width: 100%;<br>        }<br>        .wandb-col {<br>            display: flex;<br>            flex-direction: column;<br>            flex-basis: 100%;<br>            flex: 1;<br>            padding: 10px;<br>        }<br>    </style><br><div class=\"wandb-row\"><div class=\"wandb-col\"><h3>Run history:</h3><br/><table class=\"wandb\"><tr><td>learning_rate</td><td>▁</td></tr><tr><td>val_acc</td><td>▁</td></tr><tr><td>weight_decay</td><td>▁</td></tr></table><br/></div><div class=\"wandb-col\"><h3>Run summary:</h3><br/><table class=\"wandb\"><tr><td>activation_fn</td><td>relu</td></tr><tr><td>learning_rate</td><td>0.00073</td></tr><tr><td>optimizer</td><td>adamw</td></tr><tr><td>val_acc</td><td>45.57823</td></tr><tr><td>weight_decay</td><td>0.00049</td></tr></table><br/></div></div>"
      ]
     },
     "metadata": {},
     "output_type": "display_data"
    },
    {
     "data": {
      "text/plain": [
       "<IPython.core.display.HTML object>"
      ],
      "text/html": [
       " View run <strong style=\"color:#cdcd00\">trial/0/brisk-brook-96</strong> at: <a href='https://wandb.ai/IFT6759-ADV_PROJECT/cnn-emotion-prediction/runs/qvw23tys' target=\"_blank\">https://wandb.ai/IFT6759-ADV_PROJECT/cnn-emotion-prediction/runs/qvw23tys</a><br> View project at: <a href='https://wandb.ai/IFT6759-ADV_PROJECT/cnn-emotion-prediction' target=\"_blank\">https://wandb.ai/IFT6759-ADV_PROJECT/cnn-emotion-prediction</a><br>Synced 5 W&B file(s), 0 media file(s), 0 artifact file(s) and 0 other file(s)"
      ]
     },
     "metadata": {},
     "output_type": "display_data"
    },
    {
     "data": {
      "text/plain": [
       "<IPython.core.display.HTML object>"
      ],
      "text/html": [
       "Find logs at: <code>.\\wandb\\run-20250407_211554-qvw23tys\\logs</code>"
      ]
     },
     "metadata": {},
     "output_type": "display_data"
    },
    {
     "data": {
      "text/plain": [
       "<IPython.core.display.HTML object>"
      ],
      "text/html": [
       "Tracking run with wandb version 0.19.9"
      ]
     },
     "metadata": {},
     "output_type": "display_data"
    },
    {
     "data": {
      "text/plain": [
       "<IPython.core.display.HTML object>"
      ],
      "text/html": [
       "Run data is saved locally in <code>C:\\Users\\allar\\Documents\\UdeM\\IFT6759 AdvProject\\Projet\\IFT-6759-Advanced-ML-Project\\wandb\\run-20250407_211555-7cbt0h5q</code>"
      ]
     },
     "metadata": {},
     "output_type": "display_data"
    },
    {
     "data": {
      "text/plain": [
       "<IPython.core.display.HTML object>"
      ],
      "text/html": [
       "Syncing run <strong><a href='https://wandb.ai/IFT6759-ADV_PROJECT/cnn-emotion-prediction/runs/7cbt0h5q' target=\"_blank\">cnn-emotion-prediction-20250407-211555</a></strong> to <a href='https://wandb.ai/IFT6759-ADV_PROJECT/cnn-emotion-prediction' target=\"_blank\">Weights & Biases</a> (<a href='https://wandb.me/developer-guide' target=\"_blank\">docs</a>)<br>"
      ]
     },
     "metadata": {},
     "output_type": "display_data"
    },
    {
     "data": {
      "text/plain": [
       "<IPython.core.display.HTML object>"
      ],
      "text/html": [
       " View project at <a href='https://wandb.ai/IFT6759-ADV_PROJECT/cnn-emotion-prediction' target=\"_blank\">https://wandb.ai/IFT6759-ADV_PROJECT/cnn-emotion-prediction</a>"
      ]
     },
     "metadata": {},
     "output_type": "display_data"
    },
    {
     "data": {
      "text/plain": [
       "<IPython.core.display.HTML object>"
      ],
      "text/html": [
       " View run at <a href='https://wandb.ai/IFT6759-ADV_PROJECT/cnn-emotion-prediction/runs/7cbt0h5q' target=\"_blank\">https://wandb.ai/IFT6759-ADV_PROJECT/cnn-emotion-prediction/runs/7cbt0h5q</a>"
      ]
     },
     "metadata": {},
     "output_type": "display_data"
    },
    {
     "name": "stdout",
     "output_type": "stream",
     "text": [
      "Epoch 1, Train Loss: 1.9685\n",
      "Validation Accuracy: 44.90%\n",
      "Train Accuracy: 44.46%\n",
      "Epoch 2, Train Loss: 1.7203\n",
      "Validation Accuracy: 44.90%\n",
      "Train Accuracy: 45.14%\n",
      "Epoch 3, Train Loss: 1.6358\n",
      "Validation Accuracy: 44.90%\n",
      "Train Accuracy: 45.14%\n",
      "Epoch 4, Train Loss: 1.6347\n",
      "Validation Accuracy: 44.90%\n",
      "Train Accuracy: 45.14%\n",
      "Epoch 5, Train Loss: 1.6031\n",
      "Validation Accuracy: 44.90%\n",
      "Train Accuracy: 45.14%\n",
      "Epoch 6, Train Loss: 1.6174\n",
      "Validation Accuracy: 44.90%\n",
      "Train Accuracy: 45.14%\n",
      "Epoch 7, Train Loss: 1.6187\n",
      "Validation Accuracy: 44.90%\n",
      "Train Accuracy: 45.14%\n",
      "Epoch 8, Train Loss: 1.6248\n",
      "Validation Accuracy: 44.90%\n",
      "Train Accuracy: 45.14%\n",
      "Epoch 9, Train Loss: 1.6055\n",
      "Validation Accuracy: 44.90%\n",
      "Train Accuracy: 45.14%\n",
      "Epoch 10, Train Loss: 1.6168\n",
      "Validation Accuracy: 44.90%\n",
      "Train Accuracy: 45.14%\n",
      "Epoch 11, Train Loss: 1.5946\n",
      "Validation Accuracy: 44.90%\n",
      "Train Accuracy: 45.14%\n",
      "Epoch 12, Train Loss: 1.5951\n",
      "Validation Accuracy: 44.90%\n",
      "Train Accuracy: 45.14%\n",
      "Epoch 13, Train Loss: 1.5768\n",
      "Validation Accuracy: 44.90%\n",
      "Train Accuracy: 45.14%\n",
      "Epoch 14, Train Loss: 1.6236\n",
      "Validation Accuracy: 44.90%\n",
      "Train Accuracy: 45.14%\n",
      "Epoch 15, Train Loss: 1.5911\n",
      "Validation Accuracy: 44.90%\n",
      "Train Accuracy: 45.14%\n",
      "Epoch 16, Train Loss: 1.5823\n",
      "Validation Accuracy: 44.90%\n",
      "Train Accuracy: 45.14%\n",
      "Epoch 17, Train Loss: 1.6102\n",
      "Validation Accuracy: 44.90%\n",
      "Train Accuracy: 45.14%\n",
      "Epoch 18, Train Loss: 1.5622\n",
      "Validation Accuracy: 44.90%\n",
      "Train Accuracy: 45.14%\n",
      "Epoch 19, Train Loss: 1.5801\n",
      "Validation Accuracy: 44.90%\n",
      "Train Accuracy: 45.14%\n",
      "Epoch 20, Train Loss: 1.5666\n",
      "Validation Accuracy: 44.90%\n",
      "Train Accuracy: 45.14%\n",
      "Epoch 21, Train Loss: 1.5594\n",
      "Validation Accuracy: 44.90%\n",
      "Train Accuracy: 45.14%\n",
      "Epoch 22, Train Loss: 1.5734\n",
      "Validation Accuracy: 44.90%\n",
      "Train Accuracy: 45.14%\n",
      "Epoch 23, Train Loss: 1.5664\n",
      "Validation Accuracy: 44.90%\n",
      "Train Accuracy: 45.14%\n",
      "Epoch 24, Train Loss: 1.5785\n",
      "Validation Accuracy: 44.90%\n",
      "Train Accuracy: 45.14%\n",
      "Epoch 25, Train Loss: 1.5472\n",
      "Validation Accuracy: 44.90%\n",
      "Train Accuracy: 45.14%\n",
      "Epoch 26, Train Loss: 1.5528\n",
      "Validation Accuracy: 44.90%\n",
      "Train Accuracy: 45.14%\n",
      "Epoch 27, Train Loss: 1.5564\n",
      "Validation Accuracy: 44.90%\n",
      "Train Accuracy: 45.14%\n",
      "Epoch 28, Train Loss: 1.5491\n",
      "Validation Accuracy: 44.90%\n",
      "Train Accuracy: 45.14%\n",
      "Epoch 29, Train Loss: 1.5609\n",
      "Validation Accuracy: 44.90%\n",
      "Train Accuracy: 45.14%\n",
      "Epoch 30, Train Loss: 1.5539\n",
      "Validation Accuracy: 44.90%\n",
      "Train Accuracy: 45.14%\n",
      "Epoch 31, Train Loss: 1.5572\n",
      "Validation Accuracy: 44.90%\n",
      "Train Accuracy: 45.14%\n",
      "Epoch 32, Train Loss: 1.5528\n",
      "Validation Accuracy: 44.90%\n",
      "Train Accuracy: 45.14%\n",
      "Epoch 33, Train Loss: 1.5602\n",
      "Validation Accuracy: 44.90%\n",
      "Train Accuracy: 45.14%\n",
      "Epoch 34, Train Loss: 1.5398\n",
      "Validation Accuracy: 44.90%\n",
      "Train Accuracy: 45.14%\n",
      "Epoch 35, Train Loss: 1.5464\n",
      "Validation Accuracy: 44.90%\n",
      "Train Accuracy: 45.14%\n",
      "Epoch 36, Train Loss: 1.5400\n",
      "Validation Accuracy: 44.90%\n",
      "Train Accuracy: 45.14%\n",
      "Epoch 37, Train Loss: 1.5407\n",
      "Validation Accuracy: 44.90%\n",
      "Train Accuracy: 45.14%\n",
      "Epoch 38, Train Loss: 1.5216\n",
      "Validation Accuracy: 44.90%\n",
      "Train Accuracy: 45.14%\n",
      "Epoch 39, Train Loss: 1.5258\n",
      "Validation Accuracy: 44.90%\n",
      "Train Accuracy: 45.14%\n",
      "Epoch 40, Train Loss: 1.5240\n",
      "Validation Accuracy: 44.90%\n",
      "Train Accuracy: 45.14%\n",
      "Epoch 41, Train Loss: 1.5294\n",
      "Validation Accuracy: 44.90%\n",
      "Train Accuracy: 45.14%\n",
      "Epoch 42, Train Loss: 1.5216\n",
      "Validation Accuracy: 44.90%\n",
      "Train Accuracy: 45.14%\n",
      "Epoch 43, Train Loss: 1.5237\n",
      "Validation Accuracy: 44.90%\n",
      "Train Accuracy: 45.14%\n",
      "Epoch 44, Train Loss: 1.5189\n",
      "Validation Accuracy: 44.90%\n",
      "Train Accuracy: 45.14%\n",
      "Epoch 45, Train Loss: 1.5267\n",
      "Validation Accuracy: 44.90%\n",
      "Train Accuracy: 45.14%\n",
      "Epoch 46, Train Loss: 1.5087\n",
      "Validation Accuracy: 44.90%\n",
      "Train Accuracy: 45.14%\n",
      "Epoch 47, Train Loss: 1.5023\n",
      "Validation Accuracy: 44.90%\n",
      "Train Accuracy: 45.14%\n",
      "Epoch 48, Train Loss: 1.4885\n",
      "Validation Accuracy: 44.90%\n",
      "Train Accuracy: 45.14%\n",
      "Epoch 49, Train Loss: 1.4862\n",
      "Validation Accuracy: 44.90%\n",
      "Train Accuracy: 45.14%\n",
      "Epoch 50, Train Loss: 1.4993\n",
      "Validation Accuracy: 44.90%\n",
      "Train Accuracy: 45.14%\n",
      "Epoch 51, Train Loss: 1.4989\n",
      "Validation Accuracy: 44.90%\n",
      "Train Accuracy: 45.14%\n",
      "Epoch 52, Train Loss: 1.4905\n",
      "Validation Accuracy: 44.90%\n",
      "Train Accuracy: 45.14%\n",
      "Epoch 53, Train Loss: 1.4938\n",
      "Validation Accuracy: 44.90%\n",
      "Train Accuracy: 45.14%\n",
      "Epoch 54, Train Loss: 1.4877\n",
      "Validation Accuracy: 44.90%\n",
      "Train Accuracy: 45.14%\n",
      "Epoch 55, Train Loss: 1.4906\n",
      "Validation Accuracy: 44.90%\n",
      "Train Accuracy: 45.14%\n",
      "Epoch 56, Train Loss: 1.4953\n",
      "Validation Accuracy: 44.90%\n",
      "Train Accuracy: 45.14%\n",
      "Epoch 57, Train Loss: 1.4859\n",
      "Validation Accuracy: 44.90%\n",
      "Train Accuracy: 45.14%\n",
      "Epoch 58, Train Loss: 1.4899\n",
      "Validation Accuracy: 44.90%\n",
      "Train Accuracy: 45.14%\n",
      "Epoch 59, Train Loss: 1.4733\n",
      "Validation Accuracy: 44.90%\n",
      "Train Accuracy: 45.14%\n",
      "Epoch 60, Train Loss: 1.4671\n",
      "Validation Accuracy: 44.90%\n",
      "Train Accuracy: 45.14%\n",
      "Epoch 61, Train Loss: 1.4857\n",
      "Validation Accuracy: 44.90%\n",
      "Train Accuracy: 45.14%\n",
      "Epoch 62, Train Loss: 1.4676\n",
      "Validation Accuracy: 44.90%\n",
      "Train Accuracy: 45.14%\n",
      "Epoch 63, Train Loss: 1.4523\n",
      "Validation Accuracy: 44.90%\n",
      "Train Accuracy: 45.14%\n",
      "Epoch 64, Train Loss: 1.4802\n",
      "Validation Accuracy: 44.90%\n",
      "Train Accuracy: 45.14%\n",
      "Epoch 65, Train Loss: 1.4504\n",
      "Validation Accuracy: 44.90%\n",
      "Train Accuracy: 45.32%\n",
      "Epoch 66, Train Loss: 1.4556\n",
      "Validation Accuracy: 44.90%\n",
      "Train Accuracy: 45.14%\n",
      "Epoch 67, Train Loss: 1.4443\n",
      "Validation Accuracy: 44.90%\n",
      "Train Accuracy: 45.14%\n",
      "Epoch 68, Train Loss: 1.4488\n",
      "Validation Accuracy: 44.90%\n",
      "Train Accuracy: 45.14%\n",
      "Epoch 69, Train Loss: 1.4613\n",
      "Validation Accuracy: 44.90%\n",
      "Train Accuracy: 45.32%\n",
      "Epoch 70, Train Loss: 1.4234\n",
      "Validation Accuracy: 44.90%\n",
      "Train Accuracy: 45.14%\n",
      "Epoch 71, Train Loss: 1.4539\n",
      "Validation Accuracy: 44.90%\n",
      "Train Accuracy: 45.32%\n",
      "Epoch 72, Train Loss: 1.4323\n",
      "Validation Accuracy: 44.90%\n",
      "Train Accuracy: 45.14%\n",
      "Epoch 73, Train Loss: 1.4183\n",
      "Validation Accuracy: 44.90%\n",
      "Train Accuracy: 45.32%\n",
      "Epoch 74, Train Loss: 1.4295\n",
      "Validation Accuracy: 44.90%\n",
      "Train Accuracy: 45.32%\n",
      "Epoch 75, Train Loss: 1.4199\n",
      "Validation Accuracy: 44.90%\n",
      "Train Accuracy: 45.32%\n",
      "Epoch 76, Train Loss: 1.4294\n",
      "Validation Accuracy: 44.90%\n",
      "Train Accuracy: 45.32%\n",
      "Epoch 77, Train Loss: 1.4061\n",
      "Validation Accuracy: 44.90%\n",
      "Train Accuracy: 45.32%\n",
      "Epoch 78, Train Loss: 1.4011\n",
      "Validation Accuracy: 44.90%\n",
      "Train Accuracy: 45.32%\n",
      "Epoch 79, Train Loss: 1.4118\n",
      "Validation Accuracy: 44.90%\n",
      "Train Accuracy: 45.32%\n",
      "Epoch 80, Train Loss: 1.3928\n",
      "Validation Accuracy: 44.90%\n",
      "Train Accuracy: 45.32%\n",
      "Epoch 81, Train Loss: 1.4018\n",
      "Validation Accuracy: 44.90%\n",
      "Train Accuracy: 45.32%\n",
      "Epoch 82, Train Loss: 1.3891\n",
      "Validation Accuracy: 44.90%\n",
      "Train Accuracy: 45.32%\n",
      "Epoch 83, Train Loss: 1.3985\n",
      "Validation Accuracy: 44.90%\n",
      "Train Accuracy: 45.32%\n",
      "Epoch 84, Train Loss: 1.3998\n",
      "Validation Accuracy: 44.90%\n",
      "Train Accuracy: 45.32%\n",
      "Epoch 85, Train Loss: 1.4062\n",
      "Validation Accuracy: 44.90%\n",
      "Train Accuracy: 45.49%\n",
      "Epoch 86, Train Loss: 1.3779\n",
      "Validation Accuracy: 44.90%\n",
      "Train Accuracy: 45.32%\n",
      "Epoch 87, Train Loss: 1.3837\n",
      "Validation Accuracy: 44.90%\n",
      "Train Accuracy: 45.32%\n",
      "Epoch 88, Train Loss: 1.3786\n",
      "Validation Accuracy: 44.90%\n",
      "Train Accuracy: 45.49%\n",
      "Epoch 89, Train Loss: 1.3749\n",
      "Validation Accuracy: 44.90%\n",
      "Train Accuracy: 45.49%\n",
      "Epoch 90, Train Loss: 1.3979\n",
      "Validation Accuracy: 44.90%\n",
      "Train Accuracy: 45.49%\n",
      "Epoch 91, Train Loss: 1.3730\n",
      "Validation Accuracy: 44.90%\n",
      "Train Accuracy: 45.49%\n",
      "Epoch 92, Train Loss: 1.3683\n",
      "Validation Accuracy: 44.90%\n",
      "Train Accuracy: 45.49%\n",
      "Epoch 93, Train Loss: 1.3714\n",
      "Validation Accuracy: 44.90%\n",
      "Train Accuracy: 45.83%\n",
      "Epoch 94, Train Loss: 1.3783\n",
      "Validation Accuracy: 44.90%\n",
      "Train Accuracy: 45.32%\n",
      "Epoch 95, Train Loss: 1.3650\n",
      "Validation Accuracy: 44.90%\n",
      "Train Accuracy: 45.49%\n",
      "Epoch 96, Train Loss: 1.3342\n",
      "Validation Accuracy: 44.90%\n",
      "Train Accuracy: 45.49%\n",
      "Epoch 97, Train Loss: 1.3496\n",
      "Validation Accuracy: 44.90%\n",
      "Train Accuracy: 46.00%\n",
      "Epoch 98, Train Loss: 1.3447\n",
      "Validation Accuracy: 44.90%\n",
      "Train Accuracy: 45.83%\n",
      "Epoch 99, Train Loss: 1.3254\n",
      "Validation Accuracy: 44.90%\n",
      "Train Accuracy: 46.34%\n",
      "Epoch 100, Train Loss: 1.3450\n",
      "Validation Accuracy: 44.90%\n",
      "Train Accuracy: 46.34%\n",
      "Epoch 101, Train Loss: 1.3324\n",
      "Validation Accuracy: 44.90%\n",
      "Train Accuracy: 46.00%\n",
      "Epoch 102, Train Loss: 1.3348\n",
      "Validation Accuracy: 44.90%\n",
      "Train Accuracy: 46.34%\n",
      "Epoch 103, Train Loss: 1.3209\n",
      "Validation Accuracy: 44.90%\n",
      "Train Accuracy: 46.17%\n",
      "Epoch 104, Train Loss: 1.3321\n",
      "Validation Accuracy: 44.90%\n",
      "Train Accuracy: 46.17%\n",
      "Epoch 105, Train Loss: 1.3193\n",
      "Validation Accuracy: 44.90%\n",
      "Train Accuracy: 46.17%\n",
      "Epoch 106, Train Loss: 1.3194\n",
      "Validation Accuracy: 44.90%\n",
      "Train Accuracy: 46.17%\n",
      "Epoch 107, Train Loss: 1.3123\n",
      "Validation Accuracy: 44.90%\n",
      "Train Accuracy: 46.68%\n",
      "Epoch 108, Train Loss: 1.3271\n",
      "Validation Accuracy: 44.90%\n",
      "Train Accuracy: 46.00%\n",
      "Epoch 109, Train Loss: 1.3248\n",
      "Validation Accuracy: 44.90%\n",
      "Train Accuracy: 46.00%\n",
      "Epoch 110, Train Loss: 1.3063\n",
      "Validation Accuracy: 44.90%\n",
      "Train Accuracy: 46.68%\n",
      "Epoch 111, Train Loss: 1.2876\n",
      "Validation Accuracy: 44.90%\n",
      "Train Accuracy: 46.17%\n",
      "Epoch 112, Train Loss: 1.2865\n",
      "Validation Accuracy: 44.90%\n",
      "Train Accuracy: 46.34%\n",
      "Epoch 113, Train Loss: 1.3108\n",
      "Validation Accuracy: 44.90%\n",
      "Train Accuracy: 46.17%\n",
      "Epoch 114, Train Loss: 1.2882\n",
      "Validation Accuracy: 44.90%\n",
      "Train Accuracy: 46.34%\n",
      "Epoch 115, Train Loss: 1.3024\n",
      "Validation Accuracy: 44.90%\n",
      "Train Accuracy: 46.34%\n",
      "Epoch 116, Train Loss: 1.2792\n",
      "Validation Accuracy: 44.90%\n",
      "Train Accuracy: 47.02%\n",
      "Epoch 117, Train Loss: 1.2876\n",
      "Validation Accuracy: 44.90%\n",
      "Train Accuracy: 46.34%\n",
      "Epoch 118, Train Loss: 1.2866\n",
      "Validation Accuracy: 44.90%\n",
      "Train Accuracy: 46.51%\n",
      "Epoch 119, Train Loss: 1.2862\n",
      "Validation Accuracy: 44.90%\n",
      "Train Accuracy: 46.34%\n",
      "Epoch 120, Train Loss: 1.2609\n",
      "Validation Accuracy: 44.90%\n",
      "Train Accuracy: 47.36%\n",
      "Epoch 121, Train Loss: 1.2609\n",
      "Validation Accuracy: 44.90%\n",
      "Train Accuracy: 47.36%\n",
      "Epoch 122, Train Loss: 1.2728\n",
      "Validation Accuracy: 44.90%\n",
      "Train Accuracy: 46.51%\n",
      "Epoch 123, Train Loss: 1.2716\n",
      "Validation Accuracy: 44.90%\n",
      "Train Accuracy: 47.19%\n",
      "Epoch 124, Train Loss: 1.2553\n",
      "Validation Accuracy: 44.90%\n",
      "Train Accuracy: 47.19%\n",
      "Epoch 125, Train Loss: 1.2698\n",
      "Validation Accuracy: 44.90%\n",
      "Train Accuracy: 47.19%\n",
      "Epoch 126, Train Loss: 1.2407\n",
      "Validation Accuracy: 44.90%\n",
      "Train Accuracy: 47.02%\n",
      "Epoch 127, Train Loss: 1.2470\n",
      "Validation Accuracy: 44.90%\n",
      "Train Accuracy: 47.36%\n",
      "Epoch 128, Train Loss: 1.2469\n",
      "Validation Accuracy: 44.90%\n",
      "Train Accuracy: 47.36%\n",
      "Epoch 129, Train Loss: 1.2482\n",
      "Validation Accuracy: 44.90%\n",
      "Train Accuracy: 47.36%\n",
      "Epoch 130, Train Loss: 1.2457\n",
      "Validation Accuracy: 44.90%\n",
      "Train Accuracy: 47.36%\n",
      "Epoch 131, Train Loss: 1.2311\n",
      "Validation Accuracy: 44.90%\n",
      "Train Accuracy: 47.53%\n",
      "Epoch 132, Train Loss: 1.2140\n",
      "Validation Accuracy: 44.90%\n",
      "Train Accuracy: 47.36%\n",
      "Epoch 133, Train Loss: 1.2292\n",
      "Validation Accuracy: 44.90%\n",
      "Train Accuracy: 47.36%\n",
      "Epoch 134, Train Loss: 1.2067\n",
      "Validation Accuracy: 44.90%\n",
      "Train Accuracy: 47.36%\n",
      "Epoch 135, Train Loss: 1.1972\n",
      "Validation Accuracy: 44.90%\n",
      "Train Accuracy: 47.36%\n",
      "Epoch 136, Train Loss: 1.2069\n",
      "Validation Accuracy: 44.90%\n",
      "Train Accuracy: 47.53%\n",
      "Epoch 137, Train Loss: 1.2031\n",
      "Validation Accuracy: 44.90%\n",
      "Train Accuracy: 48.21%\n",
      "Epoch 138, Train Loss: 1.1954\n",
      "Validation Accuracy: 44.90%\n",
      "Train Accuracy: 47.70%\n",
      "Epoch 139, Train Loss: 1.1994\n",
      "Validation Accuracy: 44.90%\n",
      "Train Accuracy: 47.70%\n",
      "Epoch 140, Train Loss: 1.1956\n",
      "Validation Accuracy: 44.90%\n",
      "Train Accuracy: 47.36%\n",
      "Epoch 141, Train Loss: 1.1968\n",
      "Validation Accuracy: 44.90%\n",
      "Train Accuracy: 47.70%\n",
      "Epoch 142, Train Loss: 1.2136\n",
      "Validation Accuracy: 44.90%\n",
      "Train Accuracy: 47.36%\n",
      "Epoch 143, Train Loss: 1.1728\n",
      "Validation Accuracy: 44.90%\n",
      "Train Accuracy: 47.87%\n",
      "Epoch 144, Train Loss: 1.1714\n",
      "Validation Accuracy: 44.90%\n",
      "Train Accuracy: 48.04%\n",
      "Epoch 145, Train Loss: 1.1827\n",
      "Validation Accuracy: 44.90%\n",
      "Train Accuracy: 48.04%\n",
      "Epoch 146, Train Loss: 1.1789\n",
      "Validation Accuracy: 44.90%\n",
      "Train Accuracy: 48.72%\n",
      "Epoch 147, Train Loss: 1.1543\n",
      "Validation Accuracy: 44.90%\n",
      "Train Accuracy: 48.89%\n",
      "Epoch 148, Train Loss: 1.1546\n",
      "Validation Accuracy: 44.90%\n",
      "Train Accuracy: 48.72%\n",
      "Epoch 149, Train Loss: 1.1550\n",
      "Validation Accuracy: 44.90%\n",
      "Train Accuracy: 47.70%\n",
      "Epoch 150, Train Loss: 1.1669\n",
      "Validation Accuracy: 44.90%\n",
      "Train Accuracy: 48.72%\n"
     ]
    },
    {
     "data": {
      "text/plain": [
       "<IPython.core.display.HTML object>"
      ],
      "text/html": []
     },
     "metadata": {},
     "output_type": "display_data"
    },
    {
     "data": {
      "text/plain": [
       "<IPython.core.display.HTML object>"
      ],
      "text/html": [
       "<br>    <style><br>        .wandb-row {<br>            display: flex;<br>            flex-direction: row;<br>            flex-wrap: wrap;<br>            justify-content: flex-start;<br>            width: 100%;<br>        }<br>        .wandb-col {<br>            display: flex;<br>            flex-direction: column;<br>            flex-basis: 100%;<br>            flex: 1;<br>            padding: 10px;<br>        }<br>    </style><br><div class=\"wandb-row\"><div class=\"wandb-col\"><h3>Run history:</h3><br/><table class=\"wandb\"><tr><td>train_acc</td><td>▁▂▂▂▂▂▂▂▂▂▂▂▂▂▂▂▂▂▂▂▂▂▃▂▂▃▃▃▄▃▄▄▄▅▆▆▆▆▆█</td></tr><tr><td>train_loss</td><td>████▇▇▇▇▇▇▆▆▆▆▆▆▅▅▅▅▅▄▅▄▄▄▄▃▃▄▃▃▃▂▃▂▂▂▂▁</td></tr><tr><td>val_acc</td><td>▁▁▁▁▁▁▁▁▁▁▁▁▁▁▁▁▁▁▁▁▁▁▁▁▁▁▁▁▁▁▁▁▁▁▁▁▁▁▁▁</td></tr></table><br/></div><div class=\"wandb-col\"><h3>Run summary:</h3><br/><table class=\"wandb\"><tr><td>train_acc</td><td>48.72232</td></tr><tr><td>train_loss</td><td>1.16687</td></tr><tr><td>val_acc</td><td>44.89796</td></tr></table><br/></div></div>"
      ]
     },
     "metadata": {},
     "output_type": "display_data"
    },
    {
     "data": {
      "text/plain": [
       "<IPython.core.display.HTML object>"
      ],
      "text/html": [
       " View run <strong style=\"color:#cdcd00\">cnn-emotion-prediction-20250407-211555</strong> at: <a href='https://wandb.ai/IFT6759-ADV_PROJECT/cnn-emotion-prediction/runs/7cbt0h5q' target=\"_blank\">https://wandb.ai/IFT6759-ADV_PROJECT/cnn-emotion-prediction/runs/7cbt0h5q</a><br> View project at: <a href='https://wandb.ai/IFT6759-ADV_PROJECT/cnn-emotion-prediction' target=\"_blank\">https://wandb.ai/IFT6759-ADV_PROJECT/cnn-emotion-prediction</a><br>Synced 5 W&B file(s), 0 media file(s), 0 artifact file(s) and 0 other file(s)"
      ]
     },
     "metadata": {},
     "output_type": "display_data"
    },
    {
     "data": {
      "text/plain": [
       "<IPython.core.display.HTML object>"
      ],
      "text/html": [
       "Find logs at: <code>.\\wandb\\run-20250407_211555-7cbt0h5q\\logs</code>"
      ]
     },
     "metadata": {},
     "output_type": "display_data"
    },
    {
     "name": "stderr",
     "output_type": "stream",
     "text": [
      "[I 2025-04-07 21:31:02,728] Trial 1 finished with value: 44.89795918367347 and parameters: {'learning_rate': 1.355846277514264e-05, 'activation_fn': 'relu', 'optimizer': 'adamw', 'weight_decay': 0.00020173927241459824}. Best is trial 0 with value: 45.57823129251701.\n"
     ]
    },
    {
     "data": {
      "text/plain": [
       "<IPython.core.display.HTML object>"
      ],
      "text/html": [
       "Tracking run with wandb version 0.19.9"
      ]
     },
     "metadata": {},
     "output_type": "display_data"
    },
    {
     "data": {
      "text/plain": [
       "<IPython.core.display.HTML object>"
      ],
      "text/html": [
       "Run data is saved locally in <code>C:\\Users\\allar\\Documents\\UdeM\\IFT6759 AdvProject\\Projet\\IFT-6759-Advanced-ML-Project\\wandb\\run-20250407_213102-q6av1bm0</code>"
      ]
     },
     "metadata": {},
     "output_type": "display_data"
    },
    {
     "data": {
      "text/plain": [
       "<IPython.core.display.HTML object>"
      ],
      "text/html": [
       "Syncing run <strong><a href='https://wandb.ai/IFT6759-ADV_PROJECT/cnn-emotion-prediction/runs/q6av1bm0' target=\"_blank\">azure-mountain-98</a></strong> to <a href='https://wandb.ai/IFT6759-ADV_PROJECT/cnn-emotion-prediction' target=\"_blank\">Weights & Biases</a> (<a href='https://wandb.me/developer-guide' target=\"_blank\">docs</a>)<br>"
      ]
     },
     "metadata": {},
     "output_type": "display_data"
    },
    {
     "data": {
      "text/plain": [
       "<IPython.core.display.HTML object>"
      ],
      "text/html": [
       " View project at <a href='https://wandb.ai/IFT6759-ADV_PROJECT/cnn-emotion-prediction' target=\"_blank\">https://wandb.ai/IFT6759-ADV_PROJECT/cnn-emotion-prediction</a>"
      ]
     },
     "metadata": {},
     "output_type": "display_data"
    },
    {
     "data": {
      "text/plain": [
       "<IPython.core.display.HTML object>"
      ],
      "text/html": [
       " View run at <a href='https://wandb.ai/IFT6759-ADV_PROJECT/cnn-emotion-prediction/runs/q6av1bm0' target=\"_blank\">https://wandb.ai/IFT6759-ADV_PROJECT/cnn-emotion-prediction/runs/q6av1bm0</a>"
      ]
     },
     "metadata": {},
     "output_type": "display_data"
    },
    {
     "name": "stdout",
     "output_type": "stream",
     "text": [
      "Starting trial 2\n",
      "Mean time per trial: 905.2772533893585\n"
     ]
    },
    {
     "data": {
      "text/plain": [
       "<IPython.core.display.HTML object>"
      ],
      "text/html": []
     },
     "metadata": {},
     "output_type": "display_data"
    },
    {
     "data": {
      "text/plain": [
       "<IPython.core.display.HTML object>"
      ],
      "text/html": [
       "<br>    <style><br>        .wandb-row {<br>            display: flex;<br>            flex-direction: row;<br>            flex-wrap: wrap;<br>            justify-content: flex-start;<br>            width: 100%;<br>        }<br>        .wandb-col {<br>            display: flex;<br>            flex-direction: column;<br>            flex-basis: 100%;<br>            flex: 1;<br>            padding: 10px;<br>        }<br>    </style><br><div class=\"wandb-row\"><div class=\"wandb-col\"><h3>Run history:</h3><br/><table class=\"wandb\"><tr><td>learning_rate</td><td>▁</td></tr><tr><td>val_acc</td><td>▁</td></tr><tr><td>weight_decay</td><td>▁</td></tr></table><br/></div><div class=\"wandb-col\"><h3>Run summary:</h3><br/><table class=\"wandb\"><tr><td>activation_fn</td><td>relu</td></tr><tr><td>learning_rate</td><td>1e-05</td></tr><tr><td>optimizer</td><td>adamw</td></tr><tr><td>val_acc</td><td>44.89796</td></tr><tr><td>weight_decay</td><td>0.0002</td></tr></table><br/></div></div>"
      ]
     },
     "metadata": {},
     "output_type": "display_data"
    },
    {
     "data": {
      "text/plain": [
       "<IPython.core.display.HTML object>"
      ],
      "text/html": [
       " View run <strong style=\"color:#cdcd00\">trial/1/azure-mountain-98</strong> at: <a href='https://wandb.ai/IFT6759-ADV_PROJECT/cnn-emotion-prediction/runs/q6av1bm0' target=\"_blank\">https://wandb.ai/IFT6759-ADV_PROJECT/cnn-emotion-prediction/runs/q6av1bm0</a><br> View project at: <a href='https://wandb.ai/IFT6759-ADV_PROJECT/cnn-emotion-prediction' target=\"_blank\">https://wandb.ai/IFT6759-ADV_PROJECT/cnn-emotion-prediction</a><br>Synced 5 W&B file(s), 0 media file(s), 0 artifact file(s) and 0 other file(s)"
      ]
     },
     "metadata": {},
     "output_type": "display_data"
    },
    {
     "data": {
      "text/plain": [
       "<IPython.core.display.HTML object>"
      ],
      "text/html": [
       "Find logs at: <code>.\\wandb\\run-20250407_213102-q6av1bm0\\logs</code>"
      ]
     },
     "metadata": {},
     "output_type": "display_data"
    },
    {
     "data": {
      "text/plain": [
       "<IPython.core.display.HTML object>"
      ],
      "text/html": [
       "Tracking run with wandb version 0.19.9"
      ]
     },
     "metadata": {},
     "output_type": "display_data"
    },
    {
     "data": {
      "text/plain": [
       "<IPython.core.display.HTML object>"
      ],
      "text/html": [
       "Run data is saved locally in <code>C:\\Users\\allar\\Documents\\UdeM\\IFT6759 AdvProject\\Projet\\IFT-6759-Advanced-ML-Project\\wandb\\run-20250407_213103-1d0z7vg2</code>"
      ]
     },
     "metadata": {},
     "output_type": "display_data"
    },
    {
     "data": {
      "text/plain": [
       "<IPython.core.display.HTML object>"
      ],
      "text/html": [
       "Syncing run <strong><a href='https://wandb.ai/IFT6759-ADV_PROJECT/cnn-emotion-prediction/runs/1d0z7vg2' target=\"_blank\">cnn-emotion-prediction-20250407-213103</a></strong> to <a href='https://wandb.ai/IFT6759-ADV_PROJECT/cnn-emotion-prediction' target=\"_blank\">Weights & Biases</a> (<a href='https://wandb.me/developer-guide' target=\"_blank\">docs</a>)<br>"
      ]
     },
     "metadata": {},
     "output_type": "display_data"
    },
    {
     "data": {
      "text/plain": [
       "<IPython.core.display.HTML object>"
      ],
      "text/html": [
       " View project at <a href='https://wandb.ai/IFT6759-ADV_PROJECT/cnn-emotion-prediction' target=\"_blank\">https://wandb.ai/IFT6759-ADV_PROJECT/cnn-emotion-prediction</a>"
      ]
     },
     "metadata": {},
     "output_type": "display_data"
    },
    {
     "data": {
      "text/plain": [
       "<IPython.core.display.HTML object>"
      ],
      "text/html": [
       " View run at <a href='https://wandb.ai/IFT6759-ADV_PROJECT/cnn-emotion-prediction/runs/1d0z7vg2' target=\"_blank\">https://wandb.ai/IFT6759-ADV_PROJECT/cnn-emotion-prediction/runs/1d0z7vg2</a>"
      ]
     },
     "metadata": {},
     "output_type": "display_data"
    },
    {
     "name": "stdout",
     "output_type": "stream",
     "text": [
      "Epoch 1, Train Loss: 1.8724\n",
      "Validation Accuracy: 44.90%\n",
      "Train Accuracy: 45.14%\n",
      "Epoch 2, Train Loss: 1.6114\n",
      "Validation Accuracy: 44.90%\n",
      "Train Accuracy: 45.14%\n",
      "Epoch 3, Train Loss: 1.5964\n",
      "Validation Accuracy: 44.90%\n",
      "Train Accuracy: 45.14%\n",
      "Epoch 4, Train Loss: 1.5837\n",
      "Validation Accuracy: 44.90%\n",
      "Train Accuracy: 45.14%\n",
      "Epoch 5, Train Loss: 1.5683\n",
      "Validation Accuracy: 44.90%\n",
      "Train Accuracy: 45.14%\n",
      "Epoch 6, Train Loss: 1.5542\n",
      "Validation Accuracy: 44.90%\n",
      "Train Accuracy: 45.14%\n",
      "Epoch 7, Train Loss: 1.5818\n",
      "Validation Accuracy: 44.90%\n",
      "Train Accuracy: 45.14%\n",
      "Epoch 8, Train Loss: 1.5754\n",
      "Validation Accuracy: 44.90%\n",
      "Train Accuracy: 45.14%\n",
      "Epoch 9, Train Loss: 1.5645\n",
      "Validation Accuracy: 44.90%\n",
      "Train Accuracy: 45.14%\n",
      "Epoch 10, Train Loss: 1.5643\n",
      "Validation Accuracy: 44.90%\n",
      "Train Accuracy: 45.14%\n",
      "Epoch 11, Train Loss: 1.5429\n",
      "Validation Accuracy: 44.90%\n",
      "Train Accuracy: 45.14%\n",
      "Epoch 12, Train Loss: 1.5592\n",
      "Validation Accuracy: 44.90%\n",
      "Train Accuracy: 45.14%\n",
      "Epoch 13, Train Loss: 1.5402\n",
      "Validation Accuracy: 44.90%\n",
      "Train Accuracy: 45.14%\n",
      "Epoch 14, Train Loss: 1.5288\n",
      "Validation Accuracy: 44.90%\n",
      "Train Accuracy: 45.14%\n",
      "Epoch 15, Train Loss: 1.5342\n",
      "Validation Accuracy: 44.90%\n",
      "Train Accuracy: 45.14%\n",
      "Epoch 16, Train Loss: 1.5296\n",
      "Validation Accuracy: 44.90%\n",
      "Train Accuracy: 45.14%\n",
      "Epoch 17, Train Loss: 1.5290\n",
      "Validation Accuracy: 44.90%\n",
      "Train Accuracy: 45.14%\n",
      "Epoch 18, Train Loss: 1.5315\n",
      "Validation Accuracy: 44.90%\n",
      "Train Accuracy: 45.14%\n",
      "Epoch 19, Train Loss: 1.5227\n",
      "Validation Accuracy: 44.90%\n",
      "Train Accuracy: 45.14%\n",
      "Epoch 20, Train Loss: 1.4936\n",
      "Validation Accuracy: 44.90%\n",
      "Train Accuracy: 45.14%\n",
      "Epoch 21, Train Loss: 1.5086\n",
      "Validation Accuracy: 44.90%\n",
      "Train Accuracy: 45.14%\n",
      "Epoch 22, Train Loss: 1.5078\n",
      "Validation Accuracy: 44.90%\n",
      "Train Accuracy: 45.14%\n",
      "Epoch 23, Train Loss: 1.4898\n",
      "Validation Accuracy: 44.90%\n",
      "Train Accuracy: 45.14%\n",
      "Epoch 24, Train Loss: 1.4871\n",
      "Validation Accuracy: 44.90%\n",
      "Train Accuracy: 45.14%\n",
      "Epoch 25, Train Loss: 1.4848\n",
      "Validation Accuracy: 44.90%\n",
      "Train Accuracy: 45.14%\n",
      "Epoch 26, Train Loss: 1.4897\n",
      "Validation Accuracy: 44.90%\n",
      "Train Accuracy: 45.14%\n",
      "Epoch 27, Train Loss: 1.4809\n",
      "Validation Accuracy: 44.90%\n",
      "Train Accuracy: 45.14%\n",
      "Epoch 28, Train Loss: 1.4713\n",
      "Validation Accuracy: 44.90%\n",
      "Train Accuracy: 45.14%\n",
      "Epoch 29, Train Loss: 1.4759\n",
      "Validation Accuracy: 44.90%\n",
      "Train Accuracy: 45.14%\n",
      "Epoch 30, Train Loss: 1.4596\n",
      "Validation Accuracy: 44.90%\n",
      "Train Accuracy: 45.14%\n",
      "Epoch 31, Train Loss: 1.4639\n",
      "Validation Accuracy: 44.90%\n",
      "Train Accuracy: 45.14%\n",
      "Epoch 32, Train Loss: 1.4410\n",
      "Validation Accuracy: 44.90%\n",
      "Train Accuracy: 45.14%\n",
      "Epoch 33, Train Loss: 1.4547\n",
      "Validation Accuracy: 44.90%\n",
      "Train Accuracy: 45.14%\n",
      "Epoch 34, Train Loss: 1.4398\n",
      "Validation Accuracy: 44.90%\n",
      "Train Accuracy: 45.14%\n",
      "Epoch 35, Train Loss: 1.4116\n",
      "Validation Accuracy: 44.90%\n",
      "Train Accuracy: 45.14%\n",
      "Epoch 36, Train Loss: 1.4183\n",
      "Validation Accuracy: 44.90%\n",
      "Train Accuracy: 45.14%\n",
      "Epoch 37, Train Loss: 1.3967\n",
      "Validation Accuracy: 44.90%\n",
      "Train Accuracy: 45.14%\n",
      "Epoch 38, Train Loss: 1.4117\n",
      "Validation Accuracy: 44.90%\n",
      "Train Accuracy: 45.32%\n",
      "Epoch 39, Train Loss: 1.4054\n",
      "Validation Accuracy: 44.90%\n",
      "Train Accuracy: 45.32%\n",
      "Epoch 40, Train Loss: 1.4146\n",
      "Validation Accuracy: 44.90%\n",
      "Train Accuracy: 45.14%\n",
      "Epoch 41, Train Loss: 1.3853\n",
      "Validation Accuracy: 44.90%\n",
      "Train Accuracy: 45.83%\n",
      "Epoch 42, Train Loss: 1.3772\n",
      "Validation Accuracy: 44.90%\n",
      "Train Accuracy: 45.32%\n",
      "Epoch 43, Train Loss: 1.3591\n",
      "Validation Accuracy: 44.90%\n",
      "Train Accuracy: 45.49%\n",
      "Epoch 44, Train Loss: 1.3657\n",
      "Validation Accuracy: 44.90%\n",
      "Train Accuracy: 45.49%\n",
      "Epoch 45, Train Loss: 1.3693\n",
      "Validation Accuracy: 44.90%\n",
      "Train Accuracy: 45.66%\n",
      "Epoch 46, Train Loss: 1.3568\n",
      "Validation Accuracy: 44.90%\n",
      "Train Accuracy: 46.00%\n",
      "Epoch 47, Train Loss: 1.3266\n",
      "Validation Accuracy: 44.90%\n",
      "Train Accuracy: 45.49%\n",
      "Epoch 48, Train Loss: 1.3430\n",
      "Validation Accuracy: 44.90%\n",
      "Train Accuracy: 46.85%\n",
      "Epoch 49, Train Loss: 1.3162\n",
      "Validation Accuracy: 44.90%\n",
      "Train Accuracy: 46.00%\n",
      "Epoch 50, Train Loss: 1.3303\n",
      "Validation Accuracy: 44.90%\n",
      "Train Accuracy: 46.51%\n",
      "Epoch 51, Train Loss: 1.3228\n",
      "Validation Accuracy: 44.90%\n",
      "Train Accuracy: 45.83%\n",
      "Epoch 52, Train Loss: 1.2958\n",
      "Validation Accuracy: 44.90%\n",
      "Train Accuracy: 46.51%\n",
      "Epoch 53, Train Loss: 1.2959\n",
      "Validation Accuracy: 44.90%\n",
      "Train Accuracy: 46.34%\n",
      "Epoch 54, Train Loss: 1.3100\n",
      "Validation Accuracy: 44.90%\n",
      "Train Accuracy: 47.19%\n",
      "Epoch 55, Train Loss: 1.2885\n",
      "Validation Accuracy: 44.90%\n",
      "Train Accuracy: 46.68%\n",
      "Epoch 56, Train Loss: 1.2910\n",
      "Validation Accuracy: 44.90%\n",
      "Train Accuracy: 47.36%\n",
      "Epoch 57, Train Loss: 1.2787\n",
      "Validation Accuracy: 44.90%\n",
      "Train Accuracy: 45.83%\n",
      "Epoch 58, Train Loss: 1.2551\n",
      "Validation Accuracy: 44.90%\n",
      "Train Accuracy: 46.34%\n",
      "Epoch 59, Train Loss: 1.2524\n",
      "Validation Accuracy: 44.90%\n",
      "Train Accuracy: 46.85%\n",
      "Epoch 60, Train Loss: 1.2565\n",
      "Validation Accuracy: 44.90%\n",
      "Train Accuracy: 47.36%\n",
      "Epoch 61, Train Loss: 1.2340\n",
      "Validation Accuracy: 44.90%\n",
      "Train Accuracy: 48.04%\n",
      "Epoch 62, Train Loss: 1.2487\n",
      "Validation Accuracy: 44.90%\n",
      "Train Accuracy: 48.21%\n",
      "Epoch 63, Train Loss: 1.2382\n",
      "Validation Accuracy: 44.90%\n",
      "Train Accuracy: 48.21%\n",
      "Epoch 64, Train Loss: 1.2085\n",
      "Validation Accuracy: 44.90%\n",
      "Train Accuracy: 48.38%\n",
      "Epoch 65, Train Loss: 1.1968\n",
      "Validation Accuracy: 44.90%\n",
      "Train Accuracy: 47.87%\n",
      "Epoch 66, Train Loss: 1.2248\n",
      "Validation Accuracy: 44.90%\n",
      "Train Accuracy: 48.38%\n",
      "Epoch 67, Train Loss: 1.2076\n",
      "Validation Accuracy: 44.90%\n",
      "Train Accuracy: 48.72%\n",
      "Epoch 68, Train Loss: 1.1668\n",
      "Validation Accuracy: 44.90%\n",
      "Train Accuracy: 48.38%\n",
      "Epoch 69, Train Loss: 1.1861\n",
      "Validation Accuracy: 44.90%\n",
      "Train Accuracy: 49.74%\n",
      "Epoch 70, Train Loss: 1.1820\n",
      "Validation Accuracy: 44.90%\n",
      "Train Accuracy: 51.96%\n",
      "Epoch 71, Train Loss: 1.1855\n",
      "Validation Accuracy: 44.90%\n",
      "Train Accuracy: 48.55%\n",
      "Epoch 72, Train Loss: 1.1530\n",
      "Validation Accuracy: 44.90%\n",
      "Train Accuracy: 49.74%\n",
      "Epoch 73, Train Loss: 1.1566\n",
      "Validation Accuracy: 44.90%\n",
      "Train Accuracy: 49.57%\n",
      "Epoch 74, Train Loss: 1.1380\n",
      "Validation Accuracy: 44.90%\n",
      "Train Accuracy: 51.79%\n",
      "Epoch 75, Train Loss: 1.1364\n",
      "Validation Accuracy: 44.90%\n",
      "Train Accuracy: 49.57%\n",
      "Epoch 76, Train Loss: 1.1308\n",
      "Validation Accuracy: 44.90%\n",
      "Train Accuracy: 53.66%\n",
      "Epoch 77, Train Loss: 1.1131\n",
      "Validation Accuracy: 44.90%\n",
      "Train Accuracy: 52.81%\n",
      "Epoch 78, Train Loss: 1.1241\n",
      "Validation Accuracy: 44.90%\n",
      "Train Accuracy: 55.71%\n",
      "Epoch 79, Train Loss: 1.0986\n",
      "Validation Accuracy: 44.90%\n",
      "Train Accuracy: 55.20%\n",
      "Epoch 80, Train Loss: 1.1134\n",
      "Validation Accuracy: 44.90%\n",
      "Train Accuracy: 56.90%\n",
      "Epoch 81, Train Loss: 1.0845\n",
      "Validation Accuracy: 44.90%\n",
      "Train Accuracy: 55.03%\n",
      "Epoch 82, Train Loss: 1.0726\n",
      "Validation Accuracy: 44.90%\n",
      "Train Accuracy: 56.39%\n",
      "Epoch 83, Train Loss: 1.0728\n",
      "Validation Accuracy: 45.58%\n",
      "Train Accuracy: 59.97%\n",
      "Epoch 84, Train Loss: 1.0979\n",
      "Validation Accuracy: 44.90%\n",
      "Train Accuracy: 58.77%\n",
      "Epoch 85, Train Loss: 1.0652\n",
      "Validation Accuracy: 44.90%\n",
      "Train Accuracy: 57.58%\n",
      "Epoch 86, Train Loss: 1.0398\n",
      "Validation Accuracy: 45.58%\n",
      "Train Accuracy: 59.63%\n",
      "Epoch 87, Train Loss: 1.0501\n",
      "Validation Accuracy: 45.58%\n",
      "Train Accuracy: 59.63%\n",
      "Epoch 88, Train Loss: 1.0617\n",
      "Validation Accuracy: 44.90%\n",
      "Train Accuracy: 60.31%\n",
      "Epoch 89, Train Loss: 1.0384\n",
      "Validation Accuracy: 45.58%\n",
      "Train Accuracy: 60.48%\n",
      "Epoch 90, Train Loss: 1.0248\n",
      "Validation Accuracy: 44.90%\n",
      "Train Accuracy: 58.43%\n",
      "Epoch 91, Train Loss: 1.0300\n",
      "Validation Accuracy: 45.58%\n",
      "Train Accuracy: 60.99%\n",
      "Epoch 92, Train Loss: 1.0330\n",
      "Validation Accuracy: 45.58%\n",
      "Train Accuracy: 62.18%\n",
      "Epoch 93, Train Loss: 1.0110\n",
      "Validation Accuracy: 44.90%\n",
      "Train Accuracy: 57.41%\n",
      "Epoch 94, Train Loss: 0.9941\n",
      "Validation Accuracy: 45.58%\n",
      "Train Accuracy: 67.80%\n",
      "Epoch 95, Train Loss: 1.0223\n",
      "Validation Accuracy: 45.58%\n",
      "Train Accuracy: 63.20%\n",
      "Epoch 96, Train Loss: 0.9867\n",
      "Validation Accuracy: 45.58%\n",
      "Train Accuracy: 62.01%\n",
      "Epoch 97, Train Loss: 0.9764\n",
      "Validation Accuracy: 45.58%\n",
      "Train Accuracy: 66.44%\n",
      "Epoch 98, Train Loss: 0.9793\n",
      "Validation Accuracy: 45.58%\n",
      "Train Accuracy: 65.25%\n",
      "Epoch 99, Train Loss: 0.9511\n",
      "Validation Accuracy: 45.58%\n",
      "Train Accuracy: 65.59%\n",
      "Epoch 100, Train Loss: 0.9590\n",
      "Validation Accuracy: 45.58%\n",
      "Train Accuracy: 65.08%\n",
      "Epoch 101, Train Loss: 0.9471\n",
      "Validation Accuracy: 45.58%\n",
      "Train Accuracy: 69.34%\n",
      "Epoch 102, Train Loss: 0.9496\n",
      "Validation Accuracy: 45.58%\n",
      "Train Accuracy: 67.63%\n",
      "Epoch 103, Train Loss: 0.9462\n",
      "Validation Accuracy: 45.58%\n",
      "Train Accuracy: 70.87%\n",
      "Epoch 104, Train Loss: 0.9165\n",
      "Validation Accuracy: 46.26%\n",
      "Train Accuracy: 73.08%\n",
      "Epoch 105, Train Loss: 0.9305\n",
      "Validation Accuracy: 45.58%\n",
      "Train Accuracy: 70.02%\n",
      "Epoch 106, Train Loss: 0.9323\n",
      "Validation Accuracy: 45.58%\n",
      "Train Accuracy: 70.70%\n",
      "Epoch 107, Train Loss: 0.9200\n",
      "Validation Accuracy: 45.58%\n",
      "Train Accuracy: 73.08%\n",
      "Epoch 108, Train Loss: 0.9087\n",
      "Validation Accuracy: 45.58%\n",
      "Train Accuracy: 72.06%\n",
      "Epoch 109, Train Loss: 0.9032\n",
      "Validation Accuracy: 46.26%\n",
      "Train Accuracy: 74.62%\n",
      "Epoch 110, Train Loss: 0.9014\n",
      "Validation Accuracy: 45.58%\n",
      "Train Accuracy: 74.62%\n",
      "Epoch 111, Train Loss: 0.8681\n",
      "Validation Accuracy: 46.26%\n",
      "Train Accuracy: 76.15%\n",
      "Epoch 112, Train Loss: 0.8712\n",
      "Validation Accuracy: 45.58%\n",
      "Train Accuracy: 73.42%\n",
      "Epoch 113, Train Loss: 0.8751\n",
      "Validation Accuracy: 46.26%\n",
      "Train Accuracy: 76.49%\n",
      "Epoch 114, Train Loss: 0.8792\n",
      "Validation Accuracy: 46.26%\n",
      "Train Accuracy: 77.85%\n",
      "Epoch 115, Train Loss: 0.8454\n",
      "Validation Accuracy: 46.26%\n",
      "Train Accuracy: 78.02%\n",
      "Epoch 116, Train Loss: 0.8378\n",
      "Validation Accuracy: 45.58%\n",
      "Train Accuracy: 80.07%\n",
      "Epoch 117, Train Loss: 0.8318\n",
      "Validation Accuracy: 46.94%\n",
      "Train Accuracy: 82.62%\n",
      "Epoch 118, Train Loss: 0.8398\n",
      "Validation Accuracy: 46.26%\n",
      "Train Accuracy: 79.05%\n",
      "Epoch 119, Train Loss: 0.8322\n",
      "Validation Accuracy: 46.94%\n",
      "Train Accuracy: 81.26%\n",
      "Epoch 120, Train Loss: 0.8206\n",
      "Validation Accuracy: 45.58%\n",
      "Train Accuracy: 80.24%\n",
      "Epoch 121, Train Loss: 0.8229\n",
      "Validation Accuracy: 46.26%\n",
      "Train Accuracy: 81.94%\n",
      "Epoch 122, Train Loss: 0.8481\n",
      "Validation Accuracy: 46.94%\n",
      "Train Accuracy: 86.20%\n",
      "Epoch 123, Train Loss: 0.8060\n",
      "Validation Accuracy: 45.58%\n",
      "Train Accuracy: 82.62%\n",
      "Epoch 124, Train Loss: 0.7773\n",
      "Validation Accuracy: 46.94%\n",
      "Train Accuracy: 87.56%\n",
      "Epoch 125, Train Loss: 0.7994\n",
      "Validation Accuracy: 46.26%\n",
      "Train Accuracy: 83.82%\n",
      "Epoch 126, Train Loss: 0.8013\n",
      "Validation Accuracy: 46.94%\n",
      "Train Accuracy: 83.82%\n",
      "Epoch 127, Train Loss: 0.7661\n",
      "Validation Accuracy: 46.94%\n",
      "Train Accuracy: 89.10%\n",
      "Epoch 128, Train Loss: 0.7858\n",
      "Validation Accuracy: 46.94%\n",
      "Train Accuracy: 84.67%\n",
      "Epoch 129, Train Loss: 0.7813\n",
      "Validation Accuracy: 46.94%\n",
      "Train Accuracy: 86.54%\n",
      "Epoch 130, Train Loss: 0.7440\n",
      "Validation Accuracy: 46.94%\n",
      "Train Accuracy: 87.56%\n",
      "Epoch 131, Train Loss: 0.7700\n",
      "Validation Accuracy: 46.94%\n",
      "Train Accuracy: 87.73%\n",
      "Epoch 132, Train Loss: 0.7462\n",
      "Validation Accuracy: 46.94%\n",
      "Train Accuracy: 88.76%\n",
      "Epoch 133, Train Loss: 0.7256\n",
      "Validation Accuracy: 46.94%\n",
      "Train Accuracy: 87.90%\n",
      "Epoch 134, Train Loss: 0.7463\n",
      "Validation Accuracy: 46.94%\n",
      "Train Accuracy: 88.93%\n",
      "Epoch 135, Train Loss: 0.7366\n",
      "Validation Accuracy: 46.94%\n",
      "Train Accuracy: 87.56%\n",
      "Epoch 136, Train Loss: 0.7292\n",
      "Validation Accuracy: 46.94%\n",
      "Train Accuracy: 88.07%\n",
      "Epoch 137, Train Loss: 0.7313\n",
      "Validation Accuracy: 46.94%\n",
      "Train Accuracy: 90.29%\n",
      "Epoch 138, Train Loss: 0.7168\n",
      "Validation Accuracy: 46.94%\n",
      "Train Accuracy: 89.61%\n",
      "Epoch 139, Train Loss: 0.7089\n",
      "Validation Accuracy: 46.94%\n",
      "Train Accuracy: 92.33%\n",
      "Epoch 140, Train Loss: 0.7198\n",
      "Validation Accuracy: 46.94%\n",
      "Train Accuracy: 92.33%\n",
      "Epoch 141, Train Loss: 0.7171\n",
      "Validation Accuracy: 46.94%\n",
      "Train Accuracy: 89.95%\n",
      "Epoch 142, Train Loss: 0.6744\n",
      "Validation Accuracy: 46.94%\n",
      "Train Accuracy: 91.99%\n",
      "Epoch 143, Train Loss: 0.6969\n",
      "Validation Accuracy: 46.94%\n",
      "Train Accuracy: 92.16%\n",
      "Epoch 144, Train Loss: 0.7080\n",
      "Validation Accuracy: 46.94%\n",
      "Train Accuracy: 91.82%\n",
      "Epoch 145, Train Loss: 0.6828\n",
      "Validation Accuracy: 46.94%\n",
      "Train Accuracy: 92.50%\n",
      "Epoch 146, Train Loss: 0.6843\n",
      "Validation Accuracy: 46.94%\n",
      "Train Accuracy: 93.87%\n",
      "Epoch 147, Train Loss: 0.6649\n",
      "Validation Accuracy: 46.94%\n",
      "Train Accuracy: 92.67%\n",
      "Epoch 148, Train Loss: 0.6726\n",
      "Validation Accuracy: 46.94%\n",
      "Train Accuracy: 94.21%\n",
      "Epoch 149, Train Loss: 0.6333\n",
      "Validation Accuracy: 46.94%\n",
      "Train Accuracy: 93.87%\n",
      "Epoch 150, Train Loss: 0.6643\n",
      "Validation Accuracy: 46.94%\n",
      "Train Accuracy: 95.57%\n"
     ]
    },
    {
     "data": {
      "text/plain": [
       "<IPython.core.display.HTML object>"
      ],
      "text/html": []
     },
     "metadata": {},
     "output_type": "display_data"
    },
    {
     "data": {
      "text/plain": [
       "<IPython.core.display.HTML object>"
      ],
      "text/html": [
       "<br>    <style><br>        .wandb-row {<br>            display: flex;<br>            flex-direction: row;<br>            flex-wrap: wrap;<br>            justify-content: flex-start;<br>            width: 100%;<br>        }<br>        .wandb-col {<br>            display: flex;<br>            flex-direction: column;<br>            flex-basis: 100%;<br>            flex: 1;<br>            padding: 10px;<br>        }<br>    </style><br><div class=\"wandb-row\"><div class=\"wandb-col\"><h3>Run history:</h3><br/><table class=\"wandb\"><tr><td>train_acc</td><td>▁▁▁▁▁▁▁▁▁▁▁▁▁▁▁▁▁▁▁▁▁▁▁▁▁▂▂▃▄▄▇▆▆▇▇▇▇███</td></tr><tr><td>train_loss</td><td>█████▇▇▇▇▇▆▆▆▅▅▄▄▄▄▄▃▃▃▃▃▃▂▂▂▂▂▂▂▂▂▂▂▁▁▁</td></tr><tr><td>val_acc</td><td>▁▁▁▁▁▁▁▁▁▁▁▁▁▁▁▁▁▁▁▁▁▁▁▃▃▃▃▆█▃▃█████████</td></tr></table><br/></div><div class=\"wandb-col\"><h3>Run summary:</h3><br/><table class=\"wandb\"><tr><td>train_acc</td><td>95.5707</td></tr><tr><td>train_loss</td><td>0.66428</td></tr><tr><td>val_acc</td><td>46.93878</td></tr></table><br/></div></div>"
      ]
     },
     "metadata": {},
     "output_type": "display_data"
    },
    {
     "data": {
      "text/plain": [
       "<IPython.core.display.HTML object>"
      ],
      "text/html": [
       " View run <strong style=\"color:#cdcd00\">cnn-emotion-prediction-20250407-213103</strong> at: <a href='https://wandb.ai/IFT6759-ADV_PROJECT/cnn-emotion-prediction/runs/1d0z7vg2' target=\"_blank\">https://wandb.ai/IFT6759-ADV_PROJECT/cnn-emotion-prediction/runs/1d0z7vg2</a><br> View project at: <a href='https://wandb.ai/IFT6759-ADV_PROJECT/cnn-emotion-prediction' target=\"_blank\">https://wandb.ai/IFT6759-ADV_PROJECT/cnn-emotion-prediction</a><br>Synced 5 W&B file(s), 0 media file(s), 0 artifact file(s) and 0 other file(s)"
      ]
     },
     "metadata": {},
     "output_type": "display_data"
    },
    {
     "data": {
      "text/plain": [
       "<IPython.core.display.HTML object>"
      ],
      "text/html": [
       "Find logs at: <code>.\\wandb\\run-20250407_213103-1d0z7vg2\\logs</code>"
      ]
     },
     "metadata": {},
     "output_type": "display_data"
    },
    {
     "name": "stderr",
     "output_type": "stream",
     "text": [
      "[I 2025-04-07 21:46:15,951] Trial 2 finished with value: 46.93877551020408 and parameters: {'learning_rate': 2.8141819768764376e-05, 'activation_fn': 'relu', 'optimizer': 'adamw', 'weight_decay': 2.18244426061994e-05}. Best is trial 2 with value: 46.93877551020408.\n"
     ]
    },
    {
     "data": {
      "text/plain": [
       "<IPython.core.display.HTML object>"
      ],
      "text/html": [
       "Tracking run with wandb version 0.19.9"
      ]
     },
     "metadata": {},
     "output_type": "display_data"
    },
    {
     "data": {
      "text/plain": [
       "<IPython.core.display.HTML object>"
      ],
      "text/html": [
       "Run data is saved locally in <code>C:\\Users\\allar\\Documents\\UdeM\\IFT6759 AdvProject\\Projet\\IFT-6759-Advanced-ML-Project\\wandb\\run-20250407_214615-7dbksms3</code>"
      ]
     },
     "metadata": {},
     "output_type": "display_data"
    },
    {
     "data": {
      "text/plain": [
       "<IPython.core.display.HTML object>"
      ],
      "text/html": [
       "Syncing run <strong><a href='https://wandb.ai/IFT6759-ADV_PROJECT/cnn-emotion-prediction/runs/7dbksms3' target=\"_blank\">crisp-deluge-100</a></strong> to <a href='https://wandb.ai/IFT6759-ADV_PROJECT/cnn-emotion-prediction' target=\"_blank\">Weights & Biases</a> (<a href='https://wandb.me/developer-guide' target=\"_blank\">docs</a>)<br>"
      ]
     },
     "metadata": {},
     "output_type": "display_data"
    },
    {
     "data": {
      "text/plain": [
       "<IPython.core.display.HTML object>"
      ],
      "text/html": [
       " View project at <a href='https://wandb.ai/IFT6759-ADV_PROJECT/cnn-emotion-prediction' target=\"_blank\">https://wandb.ai/IFT6759-ADV_PROJECT/cnn-emotion-prediction</a>"
      ]
     },
     "metadata": {},
     "output_type": "display_data"
    },
    {
     "data": {
      "text/plain": [
       "<IPython.core.display.HTML object>"
      ],
      "text/html": [
       " View run at <a href='https://wandb.ai/IFT6759-ADV_PROJECT/cnn-emotion-prediction/runs/7dbksms3' target=\"_blank\">https://wandb.ai/IFT6759-ADV_PROJECT/cnn-emotion-prediction/runs/7dbksms3</a>"
      ]
     },
     "metadata": {},
     "output_type": "display_data"
    },
    {
     "name": "stdout",
     "output_type": "stream",
     "text": [
      "Starting trial 3\n",
      "Mean time per trial: 907.7556254863739\n"
     ]
    },
    {
     "data": {
      "text/plain": [
       "<IPython.core.display.HTML object>"
      ],
      "text/html": []
     },
     "metadata": {},
     "output_type": "display_data"
    },
    {
     "data": {
      "text/plain": [
       "<IPython.core.display.HTML object>"
      ],
      "text/html": [
       "<br>    <style><br>        .wandb-row {<br>            display: flex;<br>            flex-direction: row;<br>            flex-wrap: wrap;<br>            justify-content: flex-start;<br>            width: 100%;<br>        }<br>        .wandb-col {<br>            display: flex;<br>            flex-direction: column;<br>            flex-basis: 100%;<br>            flex: 1;<br>            padding: 10px;<br>        }<br>    </style><br><div class=\"wandb-row\"><div class=\"wandb-col\"><h3>Run history:</h3><br/><table class=\"wandb\"><tr><td>learning_rate</td><td>▁</td></tr><tr><td>val_acc</td><td>▁</td></tr><tr><td>weight_decay</td><td>▁</td></tr></table><br/></div><div class=\"wandb-col\"><h3>Run summary:</h3><br/><table class=\"wandb\"><tr><td>activation_fn</td><td>relu</td></tr><tr><td>learning_rate</td><td>3e-05</td></tr><tr><td>optimizer</td><td>adamw</td></tr><tr><td>val_acc</td><td>46.93878</td></tr><tr><td>weight_decay</td><td>2e-05</td></tr></table><br/></div></div>"
      ]
     },
     "metadata": {},
     "output_type": "display_data"
    },
    {
     "data": {
      "text/plain": [
       "<IPython.core.display.HTML object>"
      ],
      "text/html": [
       " View run <strong style=\"color:#cdcd00\">trial/2/crisp-deluge-100</strong> at: <a href='https://wandb.ai/IFT6759-ADV_PROJECT/cnn-emotion-prediction/runs/7dbksms3' target=\"_blank\">https://wandb.ai/IFT6759-ADV_PROJECT/cnn-emotion-prediction/runs/7dbksms3</a><br> View project at: <a href='https://wandb.ai/IFT6759-ADV_PROJECT/cnn-emotion-prediction' target=\"_blank\">https://wandb.ai/IFT6759-ADV_PROJECT/cnn-emotion-prediction</a><br>Synced 5 W&B file(s), 0 media file(s), 0 artifact file(s) and 0 other file(s)"
      ]
     },
     "metadata": {},
     "output_type": "display_data"
    },
    {
     "data": {
      "text/plain": [
       "<IPython.core.display.HTML object>"
      ],
      "text/html": [
       "Find logs at: <code>.\\wandb\\run-20250407_214615-7dbksms3\\logs</code>"
      ]
     },
     "metadata": {},
     "output_type": "display_data"
    },
    {
     "data": {
      "text/plain": [
       "<IPython.core.display.HTML object>"
      ],
      "text/html": [
       "Tracking run with wandb version 0.19.9"
      ]
     },
     "metadata": {},
     "output_type": "display_data"
    },
    {
     "data": {
      "text/plain": [
       "<IPython.core.display.HTML object>"
      ],
      "text/html": [
       "Run data is saved locally in <code>C:\\Users\\allar\\Documents\\UdeM\\IFT6759 AdvProject\\Projet\\IFT-6759-Advanced-ML-Project\\wandb\\run-20250407_214616-qkvj58i6</code>"
      ]
     },
     "metadata": {},
     "output_type": "display_data"
    },
    {
     "data": {
      "text/plain": [
       "<IPython.core.display.HTML object>"
      ],
      "text/html": [
       "Syncing run <strong><a href='https://wandb.ai/IFT6759-ADV_PROJECT/cnn-emotion-prediction/runs/qkvj58i6' target=\"_blank\">cnn-emotion-prediction-20250407-214616</a></strong> to <a href='https://wandb.ai/IFT6759-ADV_PROJECT/cnn-emotion-prediction' target=\"_blank\">Weights & Biases</a> (<a href='https://wandb.me/developer-guide' target=\"_blank\">docs</a>)<br>"
      ]
     },
     "metadata": {},
     "output_type": "display_data"
    },
    {
     "data": {
      "text/plain": [
       "<IPython.core.display.HTML object>"
      ],
      "text/html": [
       " View project at <a href='https://wandb.ai/IFT6759-ADV_PROJECT/cnn-emotion-prediction' target=\"_blank\">https://wandb.ai/IFT6759-ADV_PROJECT/cnn-emotion-prediction</a>"
      ]
     },
     "metadata": {},
     "output_type": "display_data"
    },
    {
     "data": {
      "text/plain": [
       "<IPython.core.display.HTML object>"
      ],
      "text/html": [
       " View run at <a href='https://wandb.ai/IFT6759-ADV_PROJECT/cnn-emotion-prediction/runs/qkvj58i6' target=\"_blank\">https://wandb.ai/IFT6759-ADV_PROJECT/cnn-emotion-prediction/runs/qkvj58i6</a>"
      ]
     },
     "metadata": {},
     "output_type": "display_data"
    },
    {
     "name": "stdout",
     "output_type": "stream",
     "text": [
      "Epoch 1, Train Loss: 1.8382\n",
      "Validation Accuracy: 44.90%\n",
      "Train Accuracy: 45.14%\n",
      "Epoch 2, Train Loss: 1.6396\n",
      "Validation Accuracy: 44.90%\n",
      "Train Accuracy: 45.14%\n",
      "Epoch 3, Train Loss: 1.5824\n",
      "Validation Accuracy: 44.90%\n",
      "Train Accuracy: 45.14%\n",
      "Epoch 4, Train Loss: 1.5598\n",
      "Validation Accuracy: 44.90%\n",
      "Train Accuracy: 45.14%\n",
      "Epoch 5, Train Loss: 1.5282\n",
      "Validation Accuracy: 44.90%\n",
      "Train Accuracy: 45.14%\n",
      "Epoch 6, Train Loss: 1.4739\n",
      "Validation Accuracy: 44.22%\n",
      "Train Accuracy: 48.89%\n",
      "Epoch 7, Train Loss: 1.4353\n",
      "Validation Accuracy: 44.90%\n",
      "Train Accuracy: 45.14%\n",
      "Epoch 8, Train Loss: 1.3738\n",
      "Validation Accuracy: 44.90%\n",
      "Train Accuracy: 46.17%\n",
      "Epoch 9, Train Loss: 1.2339\n",
      "Validation Accuracy: 44.90%\n",
      "Train Accuracy: 48.89%\n",
      "Epoch 10, Train Loss: 1.1661\n",
      "Validation Accuracy: 43.54%\n",
      "Train Accuracy: 63.54%\n",
      "Epoch 11, Train Loss: 1.0169\n",
      "Validation Accuracy: 44.90%\n",
      "Train Accuracy: 81.26%\n",
      "Epoch 12, Train Loss: 0.9778\n",
      "Validation Accuracy: 44.22%\n",
      "Train Accuracy: 69.17%\n",
      "Epoch 13, Train Loss: 0.8543\n",
      "Validation Accuracy: 44.22%\n",
      "Train Accuracy: 82.96%\n",
      "Epoch 14, Train Loss: 0.7202\n",
      "Validation Accuracy: 44.22%\n",
      "Train Accuracy: 84.67%\n",
      "Epoch 15, Train Loss: 0.6501\n",
      "Validation Accuracy: 41.50%\n",
      "Train Accuracy: 93.70%\n",
      "Epoch 16, Train Loss: 0.6090\n",
      "Validation Accuracy: 44.90%\n",
      "Train Accuracy: 95.74%\n",
      "Epoch 17, Train Loss: 0.5636\n",
      "Validation Accuracy: 44.22%\n",
      "Train Accuracy: 98.13%\n",
      "Epoch 18, Train Loss: 0.5040\n",
      "Validation Accuracy: 40.82%\n",
      "Train Accuracy: 100.00%\n",
      "Epoch 19, Train Loss: 0.4578\n",
      "Validation Accuracy: 38.78%\n",
      "Train Accuracy: 100.00%\n",
      "Epoch 20, Train Loss: 0.4441\n",
      "Validation Accuracy: 44.22%\n",
      "Train Accuracy: 91.14%\n",
      "Epoch 21, Train Loss: 0.4162\n",
      "Validation Accuracy: 41.50%\n",
      "Train Accuracy: 99.83%\n",
      "Epoch 22, Train Loss: 0.3330\n",
      "Validation Accuracy: 38.10%\n",
      "Train Accuracy: 100.00%\n",
      "Epoch 23, Train Loss: 0.3229\n",
      "Validation Accuracy: 44.22%\n",
      "Train Accuracy: 99.49%\n",
      "Epoch 24, Train Loss: 0.2806\n",
      "Validation Accuracy: 41.50%\n",
      "Train Accuracy: 100.00%\n",
      "Epoch 25, Train Loss: 0.2600\n",
      "Validation Accuracy: 44.22%\n",
      "Train Accuracy: 100.00%\n",
      "Epoch 26, Train Loss: 0.2623\n",
      "Validation Accuracy: 41.50%\n",
      "Train Accuracy: 100.00%\n",
      "Epoch 27, Train Loss: 0.2555\n",
      "Validation Accuracy: 44.22%\n",
      "Train Accuracy: 100.00%\n",
      "Epoch 28, Train Loss: 0.2083\n",
      "Validation Accuracy: 42.86%\n",
      "Train Accuracy: 100.00%\n",
      "Epoch 29, Train Loss: 0.2190\n",
      "Validation Accuracy: 44.22%\n",
      "Train Accuracy: 100.00%\n",
      "Epoch 30, Train Loss: 0.1996\n",
      "Validation Accuracy: 38.78%\n",
      "Train Accuracy: 100.00%\n",
      "Epoch 31, Train Loss: 0.1701\n",
      "Validation Accuracy: 41.50%\n",
      "Train Accuracy: 100.00%\n",
      "Epoch 32, Train Loss: 0.1536\n",
      "Validation Accuracy: 42.18%\n",
      "Train Accuracy: 100.00%\n",
      "Epoch 33, Train Loss: 0.1455\n",
      "Validation Accuracy: 41.50%\n",
      "Train Accuracy: 100.00%\n",
      "Epoch 34, Train Loss: 0.1363\n",
      "Validation Accuracy: 32.65%\n",
      "Train Accuracy: 100.00%\n",
      "Epoch 35, Train Loss: 0.1467\n",
      "Validation Accuracy: 42.86%\n",
      "Train Accuracy: 100.00%\n",
      "Epoch 36, Train Loss: 0.1363\n",
      "Validation Accuracy: 42.18%\n",
      "Train Accuracy: 100.00%\n",
      "Epoch 37, Train Loss: 0.1296\n",
      "Validation Accuracy: 42.18%\n",
      "Train Accuracy: 100.00%\n",
      "Epoch 38, Train Loss: 0.1106\n",
      "Validation Accuracy: 41.50%\n",
      "Train Accuracy: 100.00%\n",
      "Epoch 39, Train Loss: 0.1326\n",
      "Validation Accuracy: 40.14%\n",
      "Train Accuracy: 100.00%\n",
      "Epoch 40, Train Loss: 0.1349\n",
      "Validation Accuracy: 39.46%\n",
      "Train Accuracy: 100.00%\n",
      "Epoch 41, Train Loss: 0.1180\n",
      "Validation Accuracy: 42.18%\n",
      "Train Accuracy: 100.00%\n",
      "Epoch 42, Train Loss: 0.0992\n",
      "Validation Accuracy: 43.54%\n",
      "Train Accuracy: 100.00%\n",
      "Epoch 43, Train Loss: 0.0987\n",
      "Validation Accuracy: 44.90%\n",
      "Train Accuracy: 100.00%\n",
      "Epoch 44, Train Loss: 0.1145\n",
      "Validation Accuracy: 42.18%\n",
      "Train Accuracy: 100.00%\n",
      "Epoch 45, Train Loss: 0.0936\n",
      "Validation Accuracy: 42.86%\n",
      "Train Accuracy: 100.00%\n",
      "Epoch 46, Train Loss: 0.0724\n",
      "Validation Accuracy: 42.18%\n",
      "Train Accuracy: 100.00%\n",
      "Epoch 47, Train Loss: 0.0860\n",
      "Validation Accuracy: 42.18%\n",
      "Train Accuracy: 100.00%\n",
      "Epoch 48, Train Loss: 0.1007\n",
      "Validation Accuracy: 39.46%\n",
      "Train Accuracy: 100.00%\n",
      "Epoch 49, Train Loss: 0.0873\n",
      "Validation Accuracy: 40.82%\n",
      "Train Accuracy: 100.00%\n",
      "Epoch 50, Train Loss: 0.0714\n",
      "Validation Accuracy: 39.46%\n",
      "Train Accuracy: 100.00%\n",
      "Epoch 51, Train Loss: 0.0704\n",
      "Validation Accuracy: 39.46%\n",
      "Train Accuracy: 100.00%\n",
      "Epoch 52, Train Loss: 0.0705\n",
      "Validation Accuracy: 38.78%\n",
      "Train Accuracy: 100.00%\n",
      "Epoch 53, Train Loss: 0.0667\n",
      "Validation Accuracy: 38.78%\n",
      "Train Accuracy: 100.00%\n",
      "Epoch 54, Train Loss: 0.0709\n",
      "Validation Accuracy: 40.82%\n",
      "Train Accuracy: 100.00%\n",
      "Epoch 55, Train Loss: 0.0685\n",
      "Validation Accuracy: 38.10%\n",
      "Train Accuracy: 100.00%\n",
      "Epoch 56, Train Loss: 0.0614\n",
      "Validation Accuracy: 36.73%\n",
      "Train Accuracy: 100.00%\n",
      "Epoch 57, Train Loss: 0.0581\n",
      "Validation Accuracy: 40.82%\n",
      "Train Accuracy: 100.00%\n",
      "Epoch 58, Train Loss: 0.0602\n",
      "Validation Accuracy: 42.86%\n",
      "Train Accuracy: 100.00%\n",
      "Epoch 59, Train Loss: 0.0649\n",
      "Validation Accuracy: 42.86%\n",
      "Train Accuracy: 100.00%\n",
      "Epoch 60, Train Loss: 0.0702\n",
      "Validation Accuracy: 42.18%\n",
      "Train Accuracy: 100.00%\n",
      "Epoch 61, Train Loss: 0.0561\n",
      "Validation Accuracy: 38.78%\n",
      "Train Accuracy: 100.00%\n",
      "Epoch 62, Train Loss: 0.0607\n",
      "Validation Accuracy: 33.33%\n",
      "Train Accuracy: 100.00%\n",
      "Epoch 63, Train Loss: 0.0696\n",
      "Validation Accuracy: 36.05%\n",
      "Train Accuracy: 100.00%\n",
      "Epoch 64, Train Loss: 0.0642\n",
      "Validation Accuracy: 41.50%\n",
      "Train Accuracy: 100.00%\n",
      "Epoch 65, Train Loss: 0.0403\n",
      "Validation Accuracy: 40.82%\n",
      "Train Accuracy: 100.00%\n",
      "Epoch 66, Train Loss: 0.0521\n",
      "Validation Accuracy: 40.14%\n",
      "Train Accuracy: 100.00%\n",
      "Epoch 67, Train Loss: 0.0396\n",
      "Validation Accuracy: 37.41%\n",
      "Train Accuracy: 100.00%\n",
      "Epoch 68, Train Loss: 0.0353\n",
      "Validation Accuracy: 36.73%\n",
      "Train Accuracy: 100.00%\n",
      "Epoch 69, Train Loss: 0.0467\n",
      "Validation Accuracy: 42.18%\n",
      "Train Accuracy: 100.00%\n",
      "Epoch 70, Train Loss: 0.0498\n",
      "Validation Accuracy: 40.82%\n",
      "Train Accuracy: 100.00%\n",
      "Epoch 71, Train Loss: 0.0474\n",
      "Validation Accuracy: 41.50%\n",
      "Train Accuracy: 100.00%\n",
      "Epoch 72, Train Loss: 0.0438\n",
      "Validation Accuracy: 40.82%\n",
      "Train Accuracy: 100.00%\n",
      "Epoch 73, Train Loss: 0.0404\n",
      "Validation Accuracy: 40.14%\n",
      "Train Accuracy: 100.00%\n",
      "Epoch 74, Train Loss: 0.0427\n",
      "Validation Accuracy: 40.82%\n",
      "Train Accuracy: 100.00%\n",
      "Epoch 75, Train Loss: 0.0373\n",
      "Validation Accuracy: 38.78%\n",
      "Train Accuracy: 100.00%\n",
      "Epoch 76, Train Loss: 0.0461\n",
      "Validation Accuracy: 42.18%\n",
      "Train Accuracy: 100.00%\n",
      "Epoch 77, Train Loss: 0.0277\n",
      "Validation Accuracy: 40.82%\n",
      "Train Accuracy: 100.00%\n",
      "Epoch 78, Train Loss: 0.0383\n",
      "Validation Accuracy: 43.54%\n",
      "Train Accuracy: 100.00%\n",
      "Epoch 79, Train Loss: 0.0281\n",
      "Validation Accuracy: 36.73%\n",
      "Train Accuracy: 100.00%\n",
      "Epoch 80, Train Loss: 0.0388\n",
      "Validation Accuracy: 40.14%\n",
      "Train Accuracy: 100.00%\n",
      "Epoch 81, Train Loss: 0.0374\n",
      "Validation Accuracy: 40.14%\n",
      "Train Accuracy: 100.00%\n",
      "Epoch 82, Train Loss: 0.0403\n",
      "Validation Accuracy: 41.50%\n",
      "Train Accuracy: 100.00%\n",
      "Epoch 83, Train Loss: 0.0303\n",
      "Validation Accuracy: 42.18%\n",
      "Train Accuracy: 100.00%\n",
      "Epoch 84, Train Loss: 0.0319\n",
      "Validation Accuracy: 39.46%\n",
      "Train Accuracy: 100.00%\n",
      "Epoch 85, Train Loss: 0.0266\n",
      "Validation Accuracy: 40.14%\n",
      "Train Accuracy: 100.00%\n",
      "Epoch 86, Train Loss: 0.0381\n",
      "Validation Accuracy: 40.14%\n",
      "Train Accuracy: 100.00%\n",
      "Epoch 87, Train Loss: 0.0403\n",
      "Validation Accuracy: 40.82%\n",
      "Train Accuracy: 100.00%\n",
      "Epoch 88, Train Loss: 0.0371\n",
      "Validation Accuracy: 37.41%\n",
      "Train Accuracy: 100.00%\n",
      "Epoch 89, Train Loss: 0.0337\n",
      "Validation Accuracy: 36.73%\n",
      "Train Accuracy: 100.00%\n",
      "Epoch 90, Train Loss: 0.0580\n",
      "Validation Accuracy: 40.14%\n",
      "Train Accuracy: 100.00%\n",
      "Epoch 91, Train Loss: 0.0409\n",
      "Validation Accuracy: 42.18%\n",
      "Train Accuracy: 100.00%\n",
      "Epoch 92, Train Loss: 0.0415\n",
      "Validation Accuracy: 42.18%\n",
      "Train Accuracy: 100.00%\n",
      "Epoch 93, Train Loss: 0.0265\n",
      "Validation Accuracy: 37.41%\n",
      "Train Accuracy: 100.00%\n",
      "Epoch 94, Train Loss: 0.0370\n",
      "Validation Accuracy: 40.82%\n",
      "Train Accuracy: 100.00%\n",
      "Epoch 95, Train Loss: 0.0233\n",
      "Validation Accuracy: 40.82%\n",
      "Train Accuracy: 100.00%\n",
      "Epoch 96, Train Loss: 0.0261\n",
      "Validation Accuracy: 40.82%\n",
      "Train Accuracy: 100.00%\n",
      "Epoch 97, Train Loss: 0.0221\n",
      "Validation Accuracy: 38.78%\n",
      "Train Accuracy: 100.00%\n",
      "Epoch 98, Train Loss: 0.0330\n",
      "Validation Accuracy: 39.46%\n",
      "Train Accuracy: 100.00%\n",
      "Epoch 99, Train Loss: 0.0214\n",
      "Validation Accuracy: 40.14%\n",
      "Train Accuracy: 100.00%\n",
      "Epoch 100, Train Loss: 0.0213\n",
      "Validation Accuracy: 39.46%\n",
      "Train Accuracy: 100.00%\n",
      "Epoch 101, Train Loss: 0.0220\n",
      "Validation Accuracy: 40.14%\n",
      "Train Accuracy: 100.00%\n",
      "Epoch 102, Train Loss: 0.0256\n",
      "Validation Accuracy: 38.10%\n",
      "Train Accuracy: 100.00%\n",
      "Epoch 103, Train Loss: 0.0348\n",
      "Validation Accuracy: 43.54%\n",
      "Train Accuracy: 100.00%\n",
      "Epoch 104, Train Loss: 0.0302\n",
      "Validation Accuracy: 39.46%\n",
      "Train Accuracy: 100.00%\n",
      "Epoch 105, Train Loss: 0.0256\n",
      "Validation Accuracy: 40.82%\n",
      "Train Accuracy: 100.00%\n",
      "Epoch 106, Train Loss: 0.0161\n",
      "Validation Accuracy: 39.46%\n",
      "Train Accuracy: 100.00%\n",
      "Epoch 107, Train Loss: 0.0198\n",
      "Validation Accuracy: 41.50%\n",
      "Train Accuracy: 100.00%\n",
      "Epoch 108, Train Loss: 0.0260\n",
      "Validation Accuracy: 42.86%\n",
      "Train Accuracy: 100.00%\n",
      "Epoch 109, Train Loss: 0.0296\n",
      "Validation Accuracy: 37.41%\n",
      "Train Accuracy: 100.00%\n",
      "Epoch 110, Train Loss: 0.0283\n",
      "Validation Accuracy: 38.78%\n",
      "Train Accuracy: 100.00%\n",
      "Epoch 111, Train Loss: 0.0330\n",
      "Validation Accuracy: 38.10%\n",
      "Train Accuracy: 100.00%\n",
      "Epoch 112, Train Loss: 0.0306\n",
      "Validation Accuracy: 42.18%\n",
      "Train Accuracy: 100.00%\n",
      "Epoch 113, Train Loss: 0.0234\n",
      "Validation Accuracy: 40.14%\n",
      "Train Accuracy: 100.00%\n",
      "Epoch 114, Train Loss: 0.0149\n",
      "Validation Accuracy: 41.50%\n",
      "Train Accuracy: 100.00%\n",
      "Epoch 115, Train Loss: 0.0218\n",
      "Validation Accuracy: 42.18%\n",
      "Train Accuracy: 100.00%\n",
      "Epoch 116, Train Loss: 0.0187\n",
      "Validation Accuracy: 38.78%\n",
      "Train Accuracy: 100.00%\n",
      "Epoch 117, Train Loss: 0.0274\n",
      "Validation Accuracy: 38.78%\n",
      "Train Accuracy: 100.00%\n",
      "Epoch 118, Train Loss: 0.0181\n",
      "Validation Accuracy: 40.14%\n",
      "Train Accuracy: 100.00%\n",
      "Epoch 119, Train Loss: 0.0158\n",
      "Validation Accuracy: 40.14%\n",
      "Train Accuracy: 100.00%\n",
      "Epoch 120, Train Loss: 0.0197\n",
      "Validation Accuracy: 40.82%\n",
      "Train Accuracy: 100.00%\n",
      "Epoch 121, Train Loss: 0.0259\n",
      "Validation Accuracy: 34.01%\n",
      "Train Accuracy: 100.00%\n",
      "Epoch 122, Train Loss: 0.0254\n",
      "Validation Accuracy: 35.37%\n",
      "Train Accuracy: 100.00%\n",
      "Epoch 123, Train Loss: 0.0176\n",
      "Validation Accuracy: 36.73%\n",
      "Train Accuracy: 100.00%\n",
      "Epoch 124, Train Loss: 0.0198\n",
      "Validation Accuracy: 36.05%\n",
      "Train Accuracy: 100.00%\n",
      "Epoch 125, Train Loss: 0.0222\n",
      "Validation Accuracy: 39.46%\n",
      "Train Accuracy: 100.00%\n",
      "Epoch 126, Train Loss: 0.0178\n",
      "Validation Accuracy: 40.14%\n",
      "Train Accuracy: 100.00%\n",
      "Epoch 127, Train Loss: 0.0193\n",
      "Validation Accuracy: 38.78%\n",
      "Train Accuracy: 100.00%\n",
      "Epoch 128, Train Loss: 0.0211\n",
      "Validation Accuracy: 36.05%\n",
      "Train Accuracy: 100.00%\n",
      "Epoch 129, Train Loss: 0.0209\n",
      "Validation Accuracy: 38.78%\n",
      "Train Accuracy: 100.00%\n",
      "Epoch 130, Train Loss: 0.0137\n",
      "Validation Accuracy: 40.14%\n",
      "Train Accuracy: 100.00%\n",
      "Epoch 131, Train Loss: 0.0156\n",
      "Validation Accuracy: 41.50%\n",
      "Train Accuracy: 100.00%\n",
      "Epoch 132, Train Loss: 0.0156\n",
      "Validation Accuracy: 36.73%\n",
      "Train Accuracy: 100.00%\n",
      "Epoch 133, Train Loss: 0.0231\n",
      "Validation Accuracy: 41.50%\n",
      "Train Accuracy: 100.00%\n",
      "Epoch 134, Train Loss: 0.0206\n",
      "Validation Accuracy: 37.41%\n",
      "Train Accuracy: 100.00%\n",
      "Epoch 135, Train Loss: 0.0172\n",
      "Validation Accuracy: 38.10%\n",
      "Train Accuracy: 100.00%\n",
      "Epoch 136, Train Loss: 0.0192\n",
      "Validation Accuracy: 42.86%\n",
      "Train Accuracy: 100.00%\n",
      "Epoch 137, Train Loss: 0.0162\n",
      "Validation Accuracy: 37.41%\n",
      "Train Accuracy: 100.00%\n",
      "Epoch 138, Train Loss: 0.0259\n",
      "Validation Accuracy: 44.22%\n",
      "Train Accuracy: 100.00%\n",
      "Epoch 139, Train Loss: 0.0218\n",
      "Validation Accuracy: 43.54%\n",
      "Train Accuracy: 100.00%\n",
      "Epoch 140, Train Loss: 0.0184\n",
      "Validation Accuracy: 42.18%\n",
      "Train Accuracy: 100.00%\n",
      "Epoch 141, Train Loss: 0.0232\n",
      "Validation Accuracy: 35.37%\n",
      "Train Accuracy: 100.00%\n",
      "Epoch 142, Train Loss: 0.0244\n",
      "Validation Accuracy: 41.50%\n",
      "Train Accuracy: 100.00%\n",
      "Epoch 143, Train Loss: 0.0142\n",
      "Validation Accuracy: 40.14%\n",
      "Train Accuracy: 100.00%\n",
      "Epoch 144, Train Loss: 0.0207\n",
      "Validation Accuracy: 39.46%\n",
      "Train Accuracy: 100.00%\n",
      "Epoch 145, Train Loss: 0.0159\n",
      "Validation Accuracy: 40.82%\n",
      "Train Accuracy: 100.00%\n",
      "Epoch 146, Train Loss: 0.0138\n",
      "Validation Accuracy: 38.10%\n",
      "Train Accuracy: 100.00%\n",
      "Epoch 147, Train Loss: 0.0211\n",
      "Validation Accuracy: 36.73%\n",
      "Train Accuracy: 100.00%\n",
      "Epoch 148, Train Loss: 0.0204\n",
      "Validation Accuracy: 37.41%\n",
      "Train Accuracy: 100.00%\n",
      "Epoch 149, Train Loss: 0.0161\n",
      "Validation Accuracy: 32.65%\n",
      "Train Accuracy: 100.00%\n",
      "Epoch 150, Train Loss: 0.0152\n",
      "Validation Accuracy: 41.50%\n",
      "Train Accuracy: 100.00%\n"
     ]
    },
    {
     "data": {
      "text/plain": [
       "<IPython.core.display.HTML object>"
      ],
      "text/html": []
     },
     "metadata": {},
     "output_type": "display_data"
    },
    {
     "data": {
      "text/plain": [
       "<IPython.core.display.HTML object>"
      ],
      "text/html": [
       "<br>    <style><br>        .wandb-row {<br>            display: flex;<br>            flex-direction: row;<br>            flex-wrap: wrap;<br>            justify-content: flex-start;<br>            width: 100%;<br>        }<br>        .wandb-col {<br>            display: flex;<br>            flex-direction: column;<br>            flex-basis: 100%;<br>            flex: 1;<br>            padding: 10px;<br>        }<br>    </style><br><div class=\"wandb-row\"><div class=\"wandb-col\"><h3>Run history:</h3><br/><table class=\"wandb\"><tr><td>train_acc</td><td>▁▁▁▁████████████████████████████████████</td></tr><tr><td>train_loss</td><td>█▇▆▅▄▂▂▂▂▂▁▁▁▁▁▁▁▁▁▁▁▁▁▁▁▁▁▁▁▁▁▁▁▁▁▁▁▁▁▁</td></tr><tr><td>val_acc</td><td>██▇▇▇█▅▆▅▆▆▆▆▆▄▆▅▆▇▂▅▆▄▅▂▃▅▃▆▃▁▄▅▂▃▇▁▄▃▃</td></tr></table><br/></div><div class=\"wandb-col\"><h3>Run summary:</h3><br/><table class=\"wandb\"><tr><td>train_acc</td><td>100</td></tr><tr><td>train_loss</td><td>0.01516</td></tr><tr><td>val_acc</td><td>41.4966</td></tr></table><br/></div></div>"
      ]
     },
     "metadata": {},
     "output_type": "display_data"
    },
    {
     "data": {
      "text/plain": [
       "<IPython.core.display.HTML object>"
      ],
      "text/html": [
       " View run <strong style=\"color:#cdcd00\">cnn-emotion-prediction-20250407-214616</strong> at: <a href='https://wandb.ai/IFT6759-ADV_PROJECT/cnn-emotion-prediction/runs/qkvj58i6' target=\"_blank\">https://wandb.ai/IFT6759-ADV_PROJECT/cnn-emotion-prediction/runs/qkvj58i6</a><br> View project at: <a href='https://wandb.ai/IFT6759-ADV_PROJECT/cnn-emotion-prediction' target=\"_blank\">https://wandb.ai/IFT6759-ADV_PROJECT/cnn-emotion-prediction</a><br>Synced 5 W&B file(s), 0 media file(s), 0 artifact file(s) and 0 other file(s)"
      ]
     },
     "metadata": {},
     "output_type": "display_data"
    },
    {
     "data": {
      "text/plain": [
       "<IPython.core.display.HTML object>"
      ],
      "text/html": [
       "Find logs at: <code>.\\wandb\\run-20250407_214616-qkvj58i6\\logs</code>"
      ]
     },
     "metadata": {},
     "output_type": "display_data"
    },
    {
     "name": "stderr",
     "output_type": "stream",
     "text": [
      "[I 2025-04-07 22:01:30,107] Trial 3 finished with value: 44.89795918367347 and parameters: {'learning_rate': 0.0004056095056921135, 'activation_fn': 'leaky_relu', 'optimizer': 'adamw', 'weight_decay': 8.564543990221551e-06}. Best is trial 2 with value: 46.93877551020408.\n"
     ]
    },
    {
     "data": {
      "text/plain": [
       "<IPython.core.display.HTML object>"
      ],
      "text/html": [
       "Tracking run with wandb version 0.19.9"
      ]
     },
     "metadata": {},
     "output_type": "display_data"
    },
    {
     "data": {
      "text/plain": [
       "<IPython.core.display.HTML object>"
      ],
      "text/html": [
       "Run data is saved locally in <code>C:\\Users\\allar\\Documents\\UdeM\\IFT6759 AdvProject\\Projet\\IFT-6759-Advanced-ML-Project\\wandb\\run-20250407_220130-jod2shwf</code>"
      ]
     },
     "metadata": {},
     "output_type": "display_data"
    },
    {
     "data": {
      "text/plain": [
       "<IPython.core.display.HTML object>"
      ],
      "text/html": [
       "Syncing run <strong><a href='https://wandb.ai/IFT6759-ADV_PROJECT/cnn-emotion-prediction/runs/jod2shwf' target=\"_blank\">gentle-oath-102</a></strong> to <a href='https://wandb.ai/IFT6759-ADV_PROJECT/cnn-emotion-prediction' target=\"_blank\">Weights & Biases</a> (<a href='https://wandb.me/developer-guide' target=\"_blank\">docs</a>)<br>"
      ]
     },
     "metadata": {},
     "output_type": "display_data"
    },
    {
     "data": {
      "text/plain": [
       "<IPython.core.display.HTML object>"
      ],
      "text/html": [
       " View project at <a href='https://wandb.ai/IFT6759-ADV_PROJECT/cnn-emotion-prediction' target=\"_blank\">https://wandb.ai/IFT6759-ADV_PROJECT/cnn-emotion-prediction</a>"
      ]
     },
     "metadata": {},
     "output_type": "display_data"
    },
    {
     "data": {
      "text/plain": [
       "<IPython.core.display.HTML object>"
      ],
      "text/html": [
       " View run at <a href='https://wandb.ai/IFT6759-ADV_PROJECT/cnn-emotion-prediction/runs/jod2shwf' target=\"_blank\">https://wandb.ai/IFT6759-ADV_PROJECT/cnn-emotion-prediction/runs/jod2shwf</a>"
      ]
     },
     "metadata": {},
     "output_type": "display_data"
    }
   ],
   "execution_count": 7
  },
  {
   "metadata": {
    "ExecuteTime": {
     "end_time": "2025-04-08T02:01:40.695713Z",
     "start_time": "2025-04-08T02:01:40.668544Z"
    }
   },
   "cell_type": "code",
   "source": [
    "model.eval()\n",
    "\n",
    "val_total = 0\n",
    "val_correct = 0\n",
    "for batch_x, batch_y in val_loader:\n",
    "    batch_x, batch_y = batch_x.to(device), batch_y.to(device)\n",
    "\n",
    "    outputs = model(batch_x)\n",
    "    _, predicted = torch.max(outputs, 1)\n",
    "    val_total += batch_y.size(0)\n",
    "    val_correct += (predicted == batch_y).sum().item()\n",
    "\n",
    "    print(\"#############################################################\")\n",
    "    print(\"PREDICTION\")\n",
    "    print(predicted)\n",
    "    print(\"TARGET\")\n",
    "    print(batch_y)\n",
    "\n",
    "print(f\"accuracy: {val_correct / val_total * 100:.2f}%\")"
   ],
   "id": "a58290387a3dc066",
   "outputs": [
    {
     "ename": "NameError",
     "evalue": "name 'model' is not defined",
     "output_type": "error",
     "traceback": [
      "\u001B[1;31m---------------------------------------------------------------------------\u001B[0m",
      "\u001B[1;31mNameError\u001B[0m                                 Traceback (most recent call last)",
      "Cell \u001B[1;32mIn[8], line 1\u001B[0m\n\u001B[1;32m----> 1\u001B[0m \u001B[43mmodel\u001B[49m\u001B[38;5;241m.\u001B[39meval()\n\u001B[0;32m      3\u001B[0m val_total \u001B[38;5;241m=\u001B[39m \u001B[38;5;241m0\u001B[39m\n\u001B[0;32m      4\u001B[0m val_correct \u001B[38;5;241m=\u001B[39m \u001B[38;5;241m0\u001B[39m\n",
      "\u001B[1;31mNameError\u001B[0m: name 'model' is not defined"
     ]
    }
   ],
   "execution_count": 8
  },
  {
   "metadata": {},
   "cell_type": "code",
   "outputs": [],
   "execution_count": null,
   "source": "",
   "id": "536ba6e00da5969c"
  },
  {
   "metadata": {},
   "cell_type": "markdown",
   "source": [
    "## CNN nest model so far\n",
    "Trial 3 finished with value: 44.89795918367347 and parameters: {'learning_rate': 0.0004056095056921135, 'activation_fn': 'leaky_relu', 'optimizer': 'adamw', 'weight_decay': 8.564543990221551e-06}. Best is trial 2 with value: 46.93877551020408."
   ],
   "id": "3a3bf0ea5fb5c089"
  },
  {
   "metadata": {},
   "cell_type": "code",
   "outputs": [],
   "execution_count": null,
   "source": "",
   "id": "cb7b7a318542f67b"
  }
 ],
 "metadata": {
  "kernelspec": {
   "display_name": "Python 3",
   "language": "python",
   "name": "python3"
  },
  "language_info": {
   "codemirror_mode": {
    "name": "ipython",
    "version": 2
   },
   "file_extension": ".py",
   "mimetype": "text/x-python",
   "name": "python",
   "nbconvert_exporter": "python",
   "pygments_lexer": "ipython2",
   "version": "2.7.6"
  }
 },
 "nbformat": 4,
 "nbformat_minor": 5
}

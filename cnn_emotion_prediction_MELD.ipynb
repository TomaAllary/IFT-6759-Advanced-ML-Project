{
 "cells": [
  {
   "metadata": {},
   "cell_type": "markdown",
   "source": "# Predict last emotion of a dialogue from MELD dataset",
   "id": "6c9081110c3acaf6"
  },
  {
   "metadata": {},
   "cell_type": "code",
   "outputs": [],
   "execution_count": null,
   "source": [
    "        # --- Configuration ---\n",
    "        self.BASE_DIR = os.getcwd()\n",
    "        self.DATA_DIR = os.path.join(self.BASE_DIR, \"MELD.Raw\", MELD_folder)\n",
    "        self.should_add_label_as_text = should_add_label_as_text\n",
    "\n",
    "        # File to read\n",
    "        self.MP4_DIR = os.path.join(self.DATA_DIR, audio_data_folder)  # Audio files\n",
    "        self.CSV_FILE = os.path.join(self.DATA_DIR, text_data_csv_filename)  # Text utterances\n",
    "        # File/Folder to create\n",
    "        self.COMBINED_DIR = os.path.join(self.DATA_DIR, combined_audio_data_folder)  # Combined Audio files\n",
    "        self.DATA_CSV_FILE = os.path.join(self.DATA_DIR, combined_csv_filename)\n",
    "        self.CODE_FILENAME =  os.path.join(self.DATA_DIR, f\"{embeddings_plk_filename}.plk\")\n",
    "        self.CODE_LABEL_FILENAME = os.path.join(self.DATA_DIR, f\"{embeddings_plk_filename}_labels.csv\")"
   ],
   "id": "243402db9304e668"
  },
  {
   "metadata": {},
   "cell_type": "markdown",
   "source": "### If features were not already processed through WaveLM & RoBERTa",
   "id": "a8c8b6747b2c4a16"
  },
  {
   "metadata": {
    "ExecuteTime": {
     "end_time": "2025-04-06T18:43:46.433975Z",
     "start_time": "2025-04-06T18:43:44.320222Z"
    }
   },
   "cell_type": "code",
   "source": [
    "import pandas as pd\n",
    "import os\n",
    "from src.conversation_processing import ConversationProcessor_CNN\n",
    "import torch\n",
    "import pickle\n",
    "\n",
    "project_dir                 = os.getcwd()\n",
    "MELD_folder                 = \"train\"\n",
    "audio_data_folder           = \"train_splits\"\n",
    "text_data_csv_filename      = \"train_sent_emo.csv\"\n",
    "combined_audio_data_folder  = \"train_combined\"\n",
    "combined_csv_filename       = \"MELD_combined_v2.csv\"\n",
    "embeddings_plk_filename     = \"final_tensor_conversation_v2\"\n",
    "\n",
    "myProcessor = ConversationProcessor_CNN(\n",
    "    project_dir=project_dir,\n",
    "    MELD_folder=MELD_folder,\n",
    "    audio_data_folder=audio_data_folder,\n",
    "    text_data_csv_filename=text_data_csv_filename,\n",
    "    combined_audio_data_folder=combined_audio_data_folder,\n",
    "    combined_csv_filename=combined_csv_filename,\n",
    "    embeddings_plk_filename=embeddings_plk_filename)\n",
    "\n",
    "print(myProcessor.BASE_DIR)\n",
    "\n",
    "# Check if merged audio exist\n",
    "if not os.listdir(myProcessor.COMBINED_DIR):\n",
    "    print(\"Combined audio is empty. Creating combined audio.\")\n",
    "    # myProcessor.CombineAudio()\n",
    "else:\n",
    "    print(\"Combined audio is already present.\")\n",
    "\n",
    "if not os.path.exists(myProcessor.DATA_CSV_FILE):\n",
    "    print(\"Combined csv does not exist, creating it..\")\n",
    "    # combined_df = myProcessor.Create_combined_csv()\n",
    "else:\n",
    "    combined_df = pd.read_csv(myProcessor.DATA_CSV_FILE)\n",
    "    print(\"Combined csv is already present.\")\n",
    "\n",
    "if not os.path.exists(myProcessor.CODE_FILENAME) or not os.path.exists(myProcessor.CODE_LABEL_FILENAME):\n",
    "    print(\"Combined features does not exist. Creating features dataset..\")\n",
    "    # myProcessor.Create_features_dataset(combined_df)\n",
    "else:\n",
    "    print(\"Combined features dataset is already present.\")\n",
    "\n",
    "with open(myProcessor.CODE_FILENAME, 'rb') as f:\n",
    "    train_dataset_tensor = pickle.load(f)\n",
    "\n",
    "# Optionally confirm it's a tensor\n",
    "print(type(train_dataset_tensor))"
   ],
   "id": "6344092c55687432",
   "outputs": [
    {
     "name": "stderr",
     "output_type": "stream",
     "text": [
      "Some weights of RobertaModel were not initialized from the model checkpoint at roberta-base and are newly initialized: ['pooler.dense.bias', 'pooler.dense.weight']\n",
      "You should probably TRAIN this model on a down-stream task to be able to use it for predictions and inference.\n"
     ]
    },
    {
     "name": "stdout",
     "output_type": "stream",
     "text": [
      "ConversationProcessor initialized using device: cuda\n",
      "C:\\Users\\allar\\Documents\\UdeM\\IFT6759 AdvProject\\Projet\\IFT-6759-Advanced-ML-Project\n",
      "Combined audio is already present.\n",
      "Combined csv is already present.\n",
      "Combined features dataset is already present.\n",
      "<class 'torch.Tensor'>\n"
     ]
    }
   ],
   "execution_count": 2
  },
  {
   "metadata": {},
   "cell_type": "code",
   "outputs": [],
   "execution_count": null,
   "source": "",
   "id": "fa36bedea21c7ccd"
  }
 ],
 "metadata": {
  "kernelspec": {
   "display_name": "Python 3",
   "language": "python",
   "name": "python3"
  },
  "language_info": {
   "codemirror_mode": {
    "name": "ipython",
    "version": 2
   },
   "file_extension": ".py",
   "mimetype": "text/x-python",
   "name": "python",
   "nbconvert_exporter": "python",
   "pygments_lexer": "ipython2",
   "version": "2.7.6"
  }
 },
 "nbformat": 4,
 "nbformat_minor": 5
}
